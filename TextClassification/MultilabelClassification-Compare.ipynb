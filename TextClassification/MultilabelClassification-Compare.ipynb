{
 "cells": [
  {
   "cell_type": "markdown",
   "metadata": {},
   "source": [
    "# Predict tags on StackOverflow with linear models"
   ]
  },
  {
   "cell_type": "markdown",
   "metadata": {
    "raw_mimetype": "text/html"
   },
   "source": [
    "In this assignment you will learn how to predict tags for posts from [StackOverflow](https://stackoverflow.com). To solve this task you will use multilabel classification approach.\n",
    "\n",
    "### Libraries\n",
    "\n",
    "In this task you will need the following libraries:\n",
    "- [Numpy](http://www.numpy.org) — a package for scientific computing.\n",
    "- [Pandas](https://pandas.pydata.org) — a library providing high-performance, easy-to-use data structures and data analysis tools for the Python\n",
    "- [scikit-learn](http://scikit-learn.org/stable/index.html) — a tool for data mining and data analysis.\n",
    "- [NLTK](http://www.nltk.org) — a platform to work with natural language."
   ]
  },
  {
   "cell_type": "markdown",
   "metadata": {},
   "source": [
    "### Data\n",
    "\n",
    "The following cell will download all data required for this assignment into the folder `week1/data`."
   ]
  },
  {
   "cell_type": "markdown",
   "metadata": {},
   "source": [
    "### Text preprocessing"
   ]
  },
  {
   "cell_type": "markdown",
   "metadata": {},
   "source": [
    "For this and most of the following assignments you will need to use a list of stop words. It can be downloaded from *nltk*:"
   ]
  },
  {
   "cell_type": "code",
   "execution_count": 85,
   "metadata": {},
   "outputs": [
    {
     "name": "stdout",
     "output_type": "stream",
     "text": [
      "[nltk_data] Downloading package stopwords to /root/nltk_data...\n",
      "[nltk_data]   Package stopwords is already up-to-date!\n"
     ]
    }
   ],
   "source": [
    "import nltk\n",
    "nltk.download('stopwords')\n",
    "from nltk.corpus import stopwords"
   ]
  },
  {
   "cell_type": "markdown",
   "metadata": {},
   "source": [
    "In this task you will deal with a dataset of post titles from StackOverflow. You are provided a split to 3 sets: *train*, *validation* and *test*. All corpora (except for *test*) contain titles of the posts and corresponding tags (100 tags are available). The *test* set is provided for Coursera's grading and doesn't contain answers. Upload the corpora using *pandas* and look at the data:"
   ]
  },
  {
   "cell_type": "code",
   "execution_count": 86,
   "metadata": {},
   "outputs": [],
   "source": [
    "from ast import literal_eval\n",
    "import pandas as pd\n",
    "import numpy as np"
   ]
  },
  {
   "cell_type": "code",
   "execution_count": 87,
   "metadata": {},
   "outputs": [],
   "source": [
    "def read_data(filename):\n",
    "    data = pd.read_csv(filename, sep='\\t')\n",
    "    data['tags'] = data['tags'].apply(literal_eval)\n",
    "    return data"
   ]
  },
  {
   "cell_type": "code",
   "execution_count": 88,
   "metadata": {},
   "outputs": [],
   "source": [
    "train = read_data('data/train.tsv')\n",
    "validation = read_data('data/validation.tsv')\n",
    "test = pd.read_csv('data/test.tsv', sep='\\t')"
   ]
  },
  {
   "cell_type": "code",
   "execution_count": 89,
   "metadata": {},
   "outputs": [
    {
     "data": {
      "text/html": [
       "<div>\n",
       "<style scoped>\n",
       "    .dataframe tbody tr th:only-of-type {\n",
       "        vertical-align: middle;\n",
       "    }\n",
       "\n",
       "    .dataframe tbody tr th {\n",
       "        vertical-align: top;\n",
       "    }\n",
       "\n",
       "    .dataframe thead th {\n",
       "        text-align: right;\n",
       "    }\n",
       "</style>\n",
       "<table border=\"1\" class=\"dataframe\">\n",
       "  <thead>\n",
       "    <tr style=\"text-align: right;\">\n",
       "      <th></th>\n",
       "      <th>title</th>\n",
       "      <th>tags</th>\n",
       "    </tr>\n",
       "  </thead>\n",
       "  <tbody>\n",
       "    <tr>\n",
       "      <th>0</th>\n",
       "      <td>How to draw a stacked dotplot in R?</td>\n",
       "      <td>[r]</td>\n",
       "    </tr>\n",
       "    <tr>\n",
       "      <th>1</th>\n",
       "      <td>mysql select all records where a datetime fiel...</td>\n",
       "      <td>[php, mysql]</td>\n",
       "    </tr>\n",
       "    <tr>\n",
       "      <th>2</th>\n",
       "      <td>How to terminate windows phone 8.1 app</td>\n",
       "      <td>[c#]</td>\n",
       "    </tr>\n",
       "    <tr>\n",
       "      <th>3</th>\n",
       "      <td>get current time in a specific country via jquery</td>\n",
       "      <td>[javascript, jquery]</td>\n",
       "    </tr>\n",
       "    <tr>\n",
       "      <th>4</th>\n",
       "      <td>Configuring Tomcat to Use SSL</td>\n",
       "      <td>[java]</td>\n",
       "    </tr>\n",
       "  </tbody>\n",
       "</table>\n",
       "</div>"
      ],
      "text/plain": [
       "                                               title                  tags\n",
       "0                How to draw a stacked dotplot in R?                   [r]\n",
       "1  mysql select all records where a datetime fiel...          [php, mysql]\n",
       "2             How to terminate windows phone 8.1 app                  [c#]\n",
       "3  get current time in a specific country via jquery  [javascript, jquery]\n",
       "4                      Configuring Tomcat to Use SSL                [java]"
      ]
     },
     "execution_count": 89,
     "metadata": {},
     "output_type": "execute_result"
    }
   ],
   "source": [
    "train.head()"
   ]
  },
  {
   "cell_type": "markdown",
   "metadata": {},
   "source": [
    "As you can see, *title* column contains titles of the posts and *tags* column contains the tags. It could be noticed that a number of tags for a post is not fixed and could be as many as necessary."
   ]
  },
  {
   "cell_type": "markdown",
   "metadata": {},
   "source": [
    "For a more comfortable usage, initialize *X_train*, *X_val*, *X_test*, *y_train*, *y_val*."
   ]
  },
  {
   "cell_type": "code",
   "execution_count": 90,
   "metadata": {},
   "outputs": [
    {
     "name": "stdout",
     "output_type": "stream",
     "text": [
      "Obtaining the object the java.lang.Class<T> object for a parameterized type without constructing the class in q_uestion?\n"
     ]
    }
   ],
   "source": [
    "X_train, y_train = train['title'].values, train['tags'].values\n",
    "X_val, y_val = validation['title'].values, validation['tags'].values\n",
    "X_test = test['title'].values\n",
    "print(X_train[10])"
   ]
  },
  {
   "cell_type": "markdown",
   "metadata": {},
   "source": [
    "One of the most known difficulties when working with natural data is that it's unstructured. For example, if you use it \"as is\" and extract tokens just by splitting the titles by whitespaces, you will see that there are many \"weird\" tokens like *3.5?*, *\"Flip*, etc. To prevent the problems, it's usually useful to prepare the data somehow. In this task you'll write a function, which will be also used in the other assignments. \n",
    "\n",
    "**Task 1 (TextPrepare).** Implement the function *text_prepare* following the instructions. After that, run the function *test_test_prepare* to test it on tiny cases and submit it to Coursera."
   ]
  },
  {
   "cell_type": "code",
   "execution_count": 91,
   "metadata": {},
   "outputs": [],
   "source": [
    "import re"
   ]
  },
  {
   "cell_type": "code",
   "execution_count": 92,
   "metadata": {},
   "outputs": [],
   "source": [
    "REPLACE_BY_SPACE_RE = re.compile('[/(){}\\[\\]\\|@,;]')\n",
    "BAD_SYMBOLS_RE = re.compile('[^0-9a-z #+_]')\n",
    "STOPWORDS = set(stopwords.words('english'))\n",
    "\n",
    "def text_prepare(text):\n",
    "    \"\"\"\n",
    "        text: a string\n",
    "        \n",
    "        return: modified initial string\n",
    "    \"\"\"\n",
    "    #Note: Would it be better to replace with \" \" and after all substitutions remove consecutive spaces with one.\n",
    "    text = text.lower()# lowercase text\n",
    "    text = REPLACE_BY_SPACE_RE.sub(' ', text) #replace REPLACE_BY_SPACE_RE symbols by space in text\n",
    "    text = BAD_SYMBOLS_RE.sub(\"\",text)# delete symbols which are in BAD_SYMBOLS_RE from text\n",
    "    text = text.replace(\"  \",\" \")\n",
    "    text_list = list(text.split())\n",
    "    temp = \"\"\n",
    "    for i in text_list:\n",
    "        if(i not in STOPWORDS):\n",
    "            temp = temp + \" \" + i\n",
    "    text = temp.lstrip()# delete stopwords from text\n",
    "    return text"
   ]
  },
  {
   "cell_type": "code",
   "execution_count": 93,
   "metadata": {},
   "outputs": [],
   "source": [
    "def test_text_prepare():\n",
    "    examples = [\"SQL Server - any equivalent of Excel's CHOOSE function?\",\n",
    "                \"How to free c++ memory vector<int> * arr?\"]\n",
    "    answers = [\"sql server equivalent excels choose function\", \n",
    "               \"free c++ memory vectorint arr\"]\n",
    "    for ex, ans in zip(examples, answers):\n",
    "        print(ans)\n",
    "        if text_prepare(ex) != ans:\n",
    "            return \"Wrong answer for the case: '%s'\" % ex\n",
    "    return 'Basic tests are passed.'"
   ]
  },
  {
   "cell_type": "code",
   "execution_count": 94,
   "metadata": {},
   "outputs": [
    {
     "name": "stdout",
     "output_type": "stream",
     "text": [
      "sql server equivalent excels choose function\n",
      "free c++ memory vectorint arr\n",
      "Basic tests are passed.\n"
     ]
    }
   ],
   "source": [
    "print(test_text_prepare())"
   ]
  },
  {
   "cell_type": "markdown",
   "metadata": {},
   "source": [
    "Run your implementation for questions from file *text_prepare_tests.tsv* to earn the points."
   ]
  },
  {
   "cell_type": "code",
   "execution_count": 95,
   "metadata": {
    "code_folding": []
   },
   "outputs": [
    {
     "name": "stdout",
     "output_type": "stream",
     "text": [
      "Current answer for task TextPrepare is:\n",
      " sqlite php readonly\n",
      "creating multiple textboxes dynamically\n",
      "self one prefer javascript\n",
      "save php date...\n"
     ]
    }
   ],
   "source": [
    "prepared_questions = []\n",
    "for line in open('data/text_prepare_tests.tsv', encoding='utf-8'):\n",
    "    line = text_prepare(line.strip())\n",
    "    #print(line)\n",
    "    prepared_questions.append(line)\n",
    "text_prepare_results = '\\n'.join(prepared_questions)\n",
    "\n",
    "grader.submit_tag('TextPrepare', text_prepare_results)"
   ]
  },
  {
   "cell_type": "markdown",
   "metadata": {},
   "source": [
    "Now we can preprocess the titles using function *text_prepare* and  making sure that the headers don't have bad symbols:"
   ]
  },
  {
   "cell_type": "code",
   "execution_count": 96,
   "metadata": {},
   "outputs": [],
   "source": [
    "X_train = [text_prepare(x) for x in X_train]\n",
    "X_val = [text_prepare(x) for x in X_val]\n",
    "X_test = [text_prepare(x) for x in X_test]"
   ]
  },
  {
   "cell_type": "code",
   "execution_count": 97,
   "metadata": {},
   "outputs": [
    {
     "name": "stdout",
     "output_type": "stream",
     "text": [
      "['draw stacked dotplot r', 'mysql select records datetime field less specified value', 'terminate windows phone 81 app'] [list(['r']) list(['php', 'mysql']) list(['c#'])]\n"
     ]
    },
    {
     "data": {
      "text/plain": [
       "'php'"
      ]
     },
     "execution_count": 97,
     "metadata": {},
     "output_type": "execute_result"
    }
   ],
   "source": [
    "X_train[:3]\n",
    "print(X_train[:3],y_train[:3])\n",
    "(y_train[1][0])"
   ]
  },
  {
   "cell_type": "markdown",
   "metadata": {},
   "source": [
    "For each tag and for each word calculate how many times they occur in the train corpus. \n",
    "\n",
    "**Task 2 (WordsTagsCount).** Find 3 most popular tags and 3 most popular words in the train data and submit the results to earn the points."
   ]
  },
  {
   "cell_type": "code",
   "execution_count": 98,
   "metadata": {},
   "outputs": [
    {
     "name": "stdout",
     "output_type": "stream",
     "text": [
      "5501\n"
     ]
    }
   ],
   "source": [
    "# Dictionary of all tags from train corpus with their counts.\n",
    "tags_counts = {}\n",
    "# Dictionary of all words from train corpus with their counts.\n",
    "words_counts = {}\n",
    "\n",
    "def popular_word_count(input_list):\n",
    "    processing_dict = {}\n",
    "    for i in range(len(input_list)):\n",
    "        input_s = []\n",
    "        input_s = list(input_list[i].split())\n",
    "        for j in range(len(input_s)):\n",
    "            if input_s[j] not in processing_dict:\n",
    "                processing_dict[input_s[j]] = 1\n",
    "            else:\n",
    "                processing_dict[input_s[j]] = processing_dict[input_s[j]] + 1\n",
    "    return processing_dict\n",
    "words_counts = popular_word_count(X_train)\n",
    "\n",
    "def popular_tag_count(input_list):\n",
    "    processing_dict = {}\n",
    "    for i in range(len(input_list)):\n",
    "        for j in range(len(input_list[i])):\n",
    "            if input_list[i][j] not in processing_dict:\n",
    "                processing_dict[input_list[i][j]] = 1\n",
    "            else:\n",
    "                processing_dict[input_list[i][j]] += 1\n",
    "    return processing_dict\n",
    "\n",
    "tags_counts = popular_tag_count(y_train)\n",
    "\n",
    "print(words_counts['java'])"
   ]
  },
  {
   "cell_type": "code",
   "execution_count": 100,
   "metadata": {},
   "outputs": [],
   "source": [
    "DICT_SIZE = 5000\n",
    "most_common_words = [word for word, _ in (sorted(words_counts.items(), key=lambda x: x[1], reverse=True)[:DICT_SIZE])]\n",
    "WORDS_TO_INDEX = {}\n",
    "INDEX_TO_WORDS = {}\n",
    "ALL_WORDS = WORDS_TO_INDEX.keys()\n",
    "\n",
    "def build_dictionaries(words):\n",
    "    words_to_index = {}\n",
    "    index_to_words = {}\n",
    "    no_of_words = 0\n",
    "    for i in words:\n",
    "        words_to_index[i] = no_of_words\n",
    "        index_to_words[no_of_words] = i\n",
    "        no_of_words = no_of_words + 1\n",
    "    return words_to_index, index_to_words\n",
    "WORDS_TO_INDEX, INDEX_TO_WORDS = build_dictionaries(most_common_words)\n",
    "\n",
    "def my_bag_of_words(text, words_to_index, dict_size):\n",
    "    \"\"\"\n",
    "        text: a string\n",
    "        dict_size: size of the dictionary\n",
    "        \n",
    "        return a vector which is a bag-of-words representation of 'text'\n",
    "    \"\"\"\n",
    "    result_vector = np.zeros(dict_size,dtype = int)\n",
    "    for word in text.split():\n",
    "        if word in words_to_index:\n",
    "            index = words_to_index[word]\n",
    "            result_vector[index] = result_vector[index]+1\n",
    "    return result_vector"
   ]
  },
  {
   "cell_type": "markdown",
   "metadata": {},
   "source": [
    "#### TF-IDF\n",
    "\n",
    "The second approach extends the bag-of-words framework by taking into account total frequencies of words in the corpora. It helps to penalize too frequent words and provide better features space. \n",
    "\n",
    "Implement function *tfidf_features* using class [TfidfVectorizer](http://scikit-learn.org/stable/modules/generated/sklearn.feature_extraction.text.TfidfVectorizer.html) from *scikit-learn*. Use *train* corpus to train a vectorizer. Don't forget to take a look into the arguments that you can pass to it. We suggest that you filter out too rare words (occur less than in 5 titles) and too frequent words (occur more than in 90% of the titles). Also, use bigrams along with unigrams in your vocabulary. "
   ]
  },
  {
   "cell_type": "markdown",
   "metadata": {},
   "source": [
    "Let us Build first pipeline using LogisticRegression\n",
    "We will use Gridsearch and Cross validation to find the best parameters and test on the test set.\n",
    "We will repeat the process using SVM as estimator"
   ]
  },
  {
   "cell_type": "code",
   "execution_count": 174,
   "metadata": {},
   "outputs": [],
   "source": [
    "from sklearn.preprocessing import MultiLabelBinarizer\n",
    "from sklearn.multiclass import OneVsRestClassifier\n",
    "from sklearn.linear_model import LogisticRegression\n",
    "from sklearn.pipeline import Pipeline\n",
    "from sklearn.model_selection import GridSearchCV\n",
    "from sklearn.metrics import f1_score\n",
    "from sklearn.metrics import classification_report"
   ]
  },
  {
   "cell_type": "code",
   "execution_count": 175,
   "metadata": {},
   "outputs": [],
   "source": [
    "def logisticRegressionPipe():\n",
    "    logit_pipe = [('vect',TfidfVectorizer(max_df = 0.9, min_df = 5,ngram_range = (1,2), token_pattern = '(\\S+)')),\n",
    "                  ('logit',OneVsRestClassifier(LogisticRegression()))]\n",
    "    pipe = Pipeline(logit_pipe)\n",
    "    param_grid = dict(logit__estimator__C=[5, 10, 100])\n",
    "    score = 'f1_weighted'\n",
    "\n",
    "    print(\"# Tuning hyper-parameters for %s\" % score)\n",
    "    print()\n",
    "    grid_search = GridSearchCV(pipe, param_grid=param_grid,cv = 5,scoring='f1_weighted')\n",
    "    y_train_binary = MultiLabelBinarizer(classes=sorted(tags_counts.keys())).fit_transform(y_train)\n",
    "    grid_search.fit(X_train,y_train_binary)\n",
    "    print(\"Best parameters set found on development set:\")\n",
    "    print()\n",
    "    print(grid_search.best_params_)\n",
    "    print()\n",
    "    print(\"Grid scores on development set:\")\n",
    "    print()\n",
    "    means = grid_search.cv_results_['mean_test_score']\n",
    "    stds = grid_search.cv_results_['std_test_score']\n",
    "    for mean, std, params in zip(means, stds, grid_search.cv_results_['params']):\n",
    "        print(\"%0.3f (+/-%0.03f) for %r\"\n",
    "                  % (mean, std * 2, params))\n",
    "    print()\n",
    "\n",
    "    print(\"Detailed classification report:\")\n",
    "    print()\n",
    "    print(\"The model is trained on the full development set.\")\n",
    "    print(\"The scores are computed on the full evaluation set.\")\n",
    "    print()\n",
    "    y_true, y_pred = MultiLabelBinarizer(classes=sorted(tags_counts.keys())).fit_transform(y_val), grid_search.predict(X_val)\n",
    "    print(classification_report(y_true, y_pred))\n",
    "    print()"
   ]
  },
  {
   "cell_type": "code",
   "execution_count": 176,
   "metadata": {},
   "outputs": [
    {
     "name": "stdout",
     "output_type": "stream",
     "text": [
      "# Tuning hyper-parameters for f1_weighted\n",
      "\n",
      "Best parameters set found on development set:\n",
      "\n",
      "{'logit__estimator__C': 10}\n",
      "\n",
      "Grid scores on development set:\n",
      "\n",
      "0.645 (+/-0.004) for {'logit__estimator__C': 5}\n",
      "0.649 (+/-0.004) for {'logit__estimator__C': 10}\n",
      "0.623 (+/-0.004) for {'logit__estimator__C': 100}\n",
      "\n",
      "Detailed classification report:\n",
      "\n",
      "The model is trained on the full development set.\n",
      "The scores are computed on the full evaluation set.\n",
      "\n",
      "             precision    recall  f1-score   support\n",
      "\n",
      "          0       0.37      0.10      0.15      1145\n",
      "          1       0.81      0.46      0.59       573\n",
      "          2       0.67      0.14      0.23       146\n",
      "          3       0.93      0.58      0.72       898\n",
      "          4       0.97      0.81      0.88       409\n",
      "          5       0.56      0.23      0.33       144\n",
      "          6       0.54      0.36      0.43       640\n",
      "          7       0.78      0.39      0.52      1150\n",
      "          8       0.66      0.31      0.42       381\n",
      "          9       0.83      0.53      0.65       976\n",
      "         10       0.86      0.72      0.78      5730\n",
      "         11       0.85      0.61      0.71      1962\n",
      "         12       0.38      0.09      0.14       163\n",
      "         13       0.11      0.01      0.02       148\n",
      "         14       0.97      0.81      0.88       211\n",
      "         15       0.63      0.32      0.43       543\n",
      "         16       0.74      0.56      0.63       131\n",
      "         17       0.22      0.06      0.09       215\n",
      "         18       0.38      0.18      0.25       147\n",
      "         19       0.54      0.25      0.34       167\n",
      "         20       0.98      0.73      0.84       532\n",
      "         21       0.52      0.10      0.17       143\n",
      "         22       0.90      0.54      0.67       318\n",
      "         23       0.85      0.56      0.68       189\n",
      "         24       0.75      0.53      0.62       155\n",
      "         25       0.89      0.78      0.83       160\n",
      "         26       0.21      0.04      0.07       182\n",
      "         27       0.45      0.17      0.25       253\n",
      "         28       0.31      0.05      0.09       147\n",
      "         29       0.80      0.51      0.62       128\n",
      "         30       0.80      0.64      0.71       137\n",
      "         31       0.93      0.63      0.76       249\n",
      "         32       0.52      0.28      0.36      1468\n",
      "         33       0.68      0.29      0.41       252\n",
      "         34       0.44      0.16      0.24       213\n",
      "         35       0.65      0.44      0.52       967\n",
      "         36       0.62      0.33      0.43       605\n",
      "         37       0.91      0.75      0.82      5515\n",
      "         38       0.89      0.80      0.84      5641\n",
      "         39       0.79      0.54      0.64      2273\n",
      "         40       0.85      0.62      0.72       619\n",
      "         41       0.88      0.46      0.60       203\n",
      "         42       0.88      0.70      0.78       162\n",
      "         43       0.84      0.55      0.67       287\n",
      "         44       0.61      0.25      0.36       246\n",
      "         45       0.51      0.28      0.36       188\n",
      "         46       0.24      0.08      0.12        99\n",
      "         47       0.83      0.39      0.53       139\n",
      "         48       0.93      0.59      0.72       109\n",
      "         49       0.69      0.40      0.51       369\n",
      "         50       0.80      0.54      0.65       911\n",
      "         51       0.92      0.52      0.66       235\n",
      "         52       0.97      0.55      0.70       155\n",
      "         53       0.87      0.65      0.74      1309\n",
      "         54       0.50      0.10      0.17       116\n",
      "         55       0.99      0.68      0.80       117\n",
      "         56       0.84      0.35      0.49       166\n",
      "         57       0.97      0.73      0.83       137\n",
      "         58       0.32      0.10      0.16       117\n",
      "         59       0.46      0.13      0.20       171\n",
      "         60       0.93      0.76      0.84      4235\n",
      "         61       0.58      0.28      0.37       127\n",
      "         62       0.94      0.74      0.83      2724\n",
      "         63       0.18      0.02      0.04       138\n",
      "         64       0.53      0.11      0.18        84\n",
      "         65       0.90      0.51      0.65       147\n",
      "         66       0.95      0.68      0.80       472\n",
      "         67       0.86      0.64      0.73       428\n",
      "         68       0.77      0.39      0.51       127\n",
      "         69       0.74      0.42      0.54       717\n",
      "         70       0.90      0.69      0.78      1051\n",
      "         71       0.28      0.08      0.12       227\n",
      "         72       0.83      0.67      0.74       127\n",
      "         73       0.68      0.32      0.44       122\n",
      "         74       0.54      0.30      0.39       120\n",
      "         75       0.77      0.48      0.59       165\n",
      "         76       0.67      0.40      0.50       113\n",
      "         77       0.82      0.54      0.65       408\n",
      "         78       0.73      0.41      0.53       198\n",
      "         79       0.38      0.14      0.21       389\n",
      "         80       0.66      0.27      0.38       171\n",
      "         81       0.43      0.22      0.29       478\n",
      "         82       0.94      0.64      0.76       439\n",
      "         83       0.86      0.50      0.63       211\n",
      "         84       0.89      0.56      0.68       162\n",
      "         85       0.82      0.49      0.61       143\n",
      "         86       0.68      0.35      0.46       150\n",
      "         87       0.47      0.25      0.33       148\n",
      "         88       0.91      0.42      0.57       587\n",
      "         89       0.46      0.14      0.21       182\n",
      "         90       0.60      0.17      0.27       179\n",
      "         91       0.93      0.66      0.77       117\n",
      "         92       0.62      0.42      0.50       173\n",
      "         93       0.41      0.15      0.22       264\n",
      "         94       0.61      0.26      0.37       456\n",
      "         95       0.98      0.64      0.78       163\n",
      "         96       0.91      0.55      0.69       359\n",
      "         97       0.53      0.17      0.25       127\n",
      "         98       0.63      0.20      0.30       270\n",
      "         99       0.74      0.48      0.58       351\n",
      "\n",
      "avg / total       0.79      0.57      0.65     58510\n",
      "\n",
      "\n"
     ]
    }
   ],
   "source": [
    "logisticRegressionPipe()"
   ]
  },
  {
   "cell_type": "code",
   "execution_count": 167,
   "metadata": {},
   "outputs": [],
   "source": [
    "from sklearn import svm"
   ]
  },
  {
   "cell_type": "code",
   "execution_count": 177,
   "metadata": {},
   "outputs": [],
   "source": [
    "def SVMPipe():\n",
    "    svm_pipe = [('vect',TfidfVectorizer(max_df = 0.9, min_df = 5,ngram_range = (1,2), token_pattern = '(\\S+)')),\n",
    "                  ('svm_estimator',OneVsRestClassifier(svm.LinearSVC()))]\n",
    "    pipe = Pipeline(svm_pipe)\n",
    "\n",
    "    param_grid = dict(svm_estimator__estimator__C=[0.01,0.1,1])\n",
    "    score = 'f1_weighted'\n",
    "\n",
    "    print(\"# Tuning hyper-parameters for %s\" % score)\n",
    "    print()\n",
    "    grid_search = GridSearchCV(pipe, param_grid=param_grid,cv = 5,scoring='f1_weighted')\n",
    "    y_train_binary = MultiLabelBinarizer(classes=sorted(tags_counts.keys())).fit_transform(y_train)\n",
    "    grid_search.fit(X_train,y_train_binary)\n",
    "    print(\"Best parameters set found on development set:\")\n",
    "    print()\n",
    "    print(grid_search.best_params_)\n",
    "    print()\n",
    "    print(\"Grid scores on development set:\")\n",
    "    print()\n",
    "    means = grid_search.cv_results_['mean_test_score']\n",
    "    stds = grid_search.cv_results_['std_test_score']\n",
    "    for mean, std, params in zip(means, stds, grid_search.cv_results_['params']):\n",
    "        print(\"%0.3f (+/-%0.03f) for %r\"\n",
    "                  % (mean, std * 2, params))\n",
    "    print()\n",
    "\n",
    "    print(\"Detailed classification report:\")\n",
    "    print()\n",
    "    print(\"The model is trained on the full development set.\")\n",
    "    print(\"The scores are computed on the full evaluation set.\")\n",
    "    print()\n",
    "    y_true, y_pred = MultiLabelBinarizer(classes=sorted(tags_counts.keys())).fit_transform(y_val), grid_search.predict(X_val)\n",
    "    print(classification_report(y_true, y_pred))\n",
    "    print()"
   ]
  },
  {
   "cell_type": "code",
   "execution_count": 178,
   "metadata": {},
   "outputs": [
    {
     "name": "stdout",
     "output_type": "stream",
     "text": [
      "# Tuning hyper-parameters for f1_weighted\n",
      "\n"
     ]
    },
    {
     "name": "stderr",
     "output_type": "stream",
     "text": [
      "/usr/local/lib/python3.5/dist-packages/sklearn/metrics/classification.py:1135: UndefinedMetricWarning: F-score is ill-defined and being set to 0.0 in labels with no predicted samples.\n",
      "  'precision', 'predicted', average, warn_for)\n",
      "/usr/local/lib/python3.5/dist-packages/sklearn/metrics/classification.py:1135: UndefinedMetricWarning: F-score is ill-defined and being set to 0.0 in labels with no predicted samples.\n",
      "  'precision', 'predicted', average, warn_for)\n",
      "/usr/local/lib/python3.5/dist-packages/sklearn/metrics/classification.py:1135: UndefinedMetricWarning: F-score is ill-defined and being set to 0.0 in labels with no predicted samples.\n",
      "  'precision', 'predicted', average, warn_for)\n",
      "/usr/local/lib/python3.5/dist-packages/sklearn/metrics/classification.py:1135: UndefinedMetricWarning: F-score is ill-defined and being set to 0.0 in labels with no predicted samples.\n",
      "  'precision', 'predicted', average, warn_for)\n",
      "/usr/local/lib/python3.5/dist-packages/sklearn/metrics/classification.py:1135: UndefinedMetricWarning: F-score is ill-defined and being set to 0.0 in labels with no predicted samples.\n",
      "  'precision', 'predicted', average, warn_for)\n",
      "/usr/local/lib/python3.5/dist-packages/sklearn/metrics/classification.py:1135: UndefinedMetricWarning: F-score is ill-defined and being set to 0.0 in labels with no predicted samples.\n",
      "  'precision', 'predicted', average, warn_for)\n",
      "/usr/local/lib/python3.5/dist-packages/sklearn/metrics/classification.py:1135: UndefinedMetricWarning: F-score is ill-defined and being set to 0.0 in labels with no predicted samples.\n",
      "  'precision', 'predicted', average, warn_for)\n",
      "/usr/local/lib/python3.5/dist-packages/sklearn/metrics/classification.py:1135: UndefinedMetricWarning: F-score is ill-defined and being set to 0.0 in labels with no predicted samples.\n",
      "  'precision', 'predicted', average, warn_for)\n",
      "/usr/local/lib/python3.5/dist-packages/sklearn/metrics/classification.py:1135: UndefinedMetricWarning: F-score is ill-defined and being set to 0.0 in labels with no predicted samples.\n",
      "  'precision', 'predicted', average, warn_for)\n",
      "/usr/local/lib/python3.5/dist-packages/sklearn/metrics/classification.py:1135: UndefinedMetricWarning: F-score is ill-defined and being set to 0.0 in labels with no predicted samples.\n",
      "  'precision', 'predicted', average, warn_for)\n"
     ]
    },
    {
     "name": "stdout",
     "output_type": "stream",
     "text": [
      "Best parameters set found on development set:\n",
      "\n",
      "{'svm_estimator__estimator__C': 1}\n",
      "\n",
      "Grid scores on development set:\n",
      "\n",
      "0.419 (+/-0.004) for {'svm_estimator__estimator__C': 0.01}\n",
      "0.616 (+/-0.005) for {'svm_estimator__estimator__C': 0.1}\n",
      "0.657 (+/-0.005) for {'svm_estimator__estimator__C': 1}\n",
      "\n",
      "Detailed classification report:\n",
      "\n",
      "The model is trained on the full development set.\n",
      "The scores are computed on the full evaluation set.\n",
      "\n",
      "             precision    recall  f1-score   support\n",
      "\n",
      "          0       0.45      0.08      0.14      1145\n",
      "          1       0.81      0.50      0.62       573\n",
      "          2       0.66      0.14      0.24       146\n",
      "          3       0.94      0.59      0.73       898\n",
      "          4       0.97      0.82      0.89       409\n",
      "          5       0.57      0.26      0.35       144\n",
      "          6       0.53      0.38      0.44       640\n",
      "          7       0.81      0.40      0.54      1150\n",
      "          8       0.67      0.34      0.45       381\n",
      "          9       0.83      0.52      0.64       976\n",
      "         10       0.86      0.72      0.78      5730\n",
      "         11       0.86      0.61      0.72      1962\n",
      "         12       0.48      0.07      0.12       163\n",
      "         13       0.40      0.01      0.03       148\n",
      "         14       0.97      0.82      0.89       211\n",
      "         15       0.64      0.30      0.41       543\n",
      "         16       0.73      0.63      0.67       131\n",
      "         17       0.24      0.04      0.06       215\n",
      "         18       0.37      0.16      0.22       147\n",
      "         19       0.59      0.25      0.35       167\n",
      "         20       0.99      0.74      0.84       532\n",
      "         21       0.59      0.13      0.22       143\n",
      "         22       0.93      0.56      0.70       318\n",
      "         23       0.83      0.60      0.70       189\n",
      "         24       0.75      0.60      0.67       155\n",
      "         25       0.90      0.81      0.85       160\n",
      "         26       0.14      0.01      0.02       182\n",
      "         27       0.39      0.14      0.20       253\n",
      "         28       0.36      0.03      0.06       147\n",
      "         29       0.79      0.56      0.66       128\n",
      "         30       0.77      0.69      0.73       137\n",
      "         31       0.95      0.65      0.77       249\n",
      "         32       0.55      0.26      0.35      1468\n",
      "         33       0.71      0.30      0.42       252\n",
      "         34       0.49      0.15      0.23       213\n",
      "         35       0.67      0.46      0.55       967\n",
      "         36       0.66      0.33      0.44       605\n",
      "         37       0.92      0.75      0.82      5515\n",
      "         38       0.89      0.80      0.84      5641\n",
      "         39       0.80      0.52      0.63      2273\n",
      "         40       0.85      0.68      0.76       619\n",
      "         41       0.88      0.48      0.62       203\n",
      "         42       0.89      0.77      0.83       162\n",
      "         43       0.86      0.57      0.69       287\n",
      "         44       0.68      0.27      0.39       246\n",
      "         45       0.46      0.27      0.34       188\n",
      "         46       0.30      0.06      0.10        99\n",
      "         47       0.83      0.46      0.59       139\n",
      "         48       0.94      0.69      0.79       109\n",
      "         49       0.70      0.44      0.54       369\n",
      "         50       0.82      0.54      0.65       911\n",
      "         51       0.93      0.58      0.72       235\n",
      "         52       0.98      0.54      0.70       155\n",
      "         53       0.88      0.69      0.77      1309\n",
      "         54       0.56      0.08      0.14       116\n",
      "         55       0.99      0.68      0.80       117\n",
      "         56       0.86      0.40      0.55       166\n",
      "         57       0.98      0.73      0.84       137\n",
      "         58       0.43      0.11      0.18       117\n",
      "         59       0.43      0.11      0.17       171\n",
      "         60       0.93      0.76      0.84      4235\n",
      "         61       0.59      0.26      0.36       127\n",
      "         62       0.95      0.75      0.84      2724\n",
      "         63       0.29      0.01      0.03       138\n",
      "         64       0.59      0.15      0.25        84\n",
      "         65       0.88      0.57      0.69       147\n",
      "         66       0.95      0.69      0.80       472\n",
      "         67       0.88      0.64      0.74       428\n",
      "         68       0.77      0.42      0.54       127\n",
      "         69       0.77      0.44      0.56       717\n",
      "         70       0.91      0.71      0.80      1051\n",
      "         71       0.31      0.05      0.09       227\n",
      "         72       0.80      0.69      0.74       127\n",
      "         73       0.73      0.40      0.52       122\n",
      "         74       0.54      0.36      0.43       120\n",
      "         75       0.78      0.54      0.64       165\n",
      "         76       0.62      0.46      0.53       113\n",
      "         77       0.82      0.59      0.69       408\n",
      "         78       0.80      0.45      0.58       198\n",
      "         79       0.44      0.13      0.20       389\n",
      "         80       0.68      0.29      0.41       171\n",
      "         81       0.47      0.21      0.29       478\n",
      "         82       0.98      0.64      0.78       439\n",
      "         83       0.90      0.58      0.70       211\n",
      "         84       0.89      0.60      0.72       162\n",
      "         85       0.82      0.55      0.66       143\n",
      "         86       0.70      0.40      0.51       150\n",
      "         87       0.46      0.24      0.32       148\n",
      "         88       0.96      0.41      0.58       587\n",
      "         89       0.51      0.13      0.20       182\n",
      "         90       0.75      0.18      0.30       179\n",
      "         91       0.93      0.69      0.79       117\n",
      "         92       0.66      0.48      0.56       173\n",
      "         93       0.43      0.11      0.18       264\n",
      "         94       0.66      0.28      0.39       456\n",
      "         95       0.99      0.67      0.80       163\n",
      "         96       0.92      0.55      0.69       359\n",
      "         97       0.65      0.16      0.25       127\n",
      "         98       0.69      0.21      0.32       270\n",
      "         99       0.74      0.51      0.61       351\n",
      "\n",
      "avg / total       0.81      0.58      0.66     58510\n",
      "\n",
      "\n"
     ]
    }
   ],
   "source": [
    "SVMPipe()"
   ]
  },
  {
   "cell_type": "code",
   "execution_count": 158,
   "metadata": {},
   "outputs": [
    {
     "name": "stdout",
     "output_type": "stream",
     "text": [
      "0.654022818733\n"
     ]
    }
   ],
   "source": [
    "predicted = grid_search.predict(X_val)\n",
    "y_val_binary = MultiLabelBinarizer(classes=sorted(tags_counts.keys())).fit_transform(y_val)\n",
    "f1_score_weighted = f1_score(y_val_binary,predicted,average = 'weighted')\n",
    "print(f1_score_weighted)"
   ]
  },
  {
   "cell_type": "code",
   "execution_count": 103,
   "metadata": {},
   "outputs": [],
   "source": [
    "from sklearn.feature_extraction.text import TfidfVectorizer"
   ]
  },
  {
   "cell_type": "code",
   "execution_count": 104,
   "metadata": {},
   "outputs": [],
   "source": [
    "def tfidf_features(X_train, X_val, X_test):\n",
    "    \"\"\"\n",
    "        X_train, X_val, X_test — samples        \n",
    "        return TF-IDF vectorized representation of each sample and vocabulary\n",
    "    \"\"\"\n",
    "    # Create TF-IDF vectorizer with a proper parameters choice\n",
    "    # Fit the vectorizer on the train set\n",
    "    # Transform the train, test, and val sets and return the result\n",
    "    \n",
    "    m_vectorizer = TfidfVectorizer(max_df = 0.9, min_df = 5,ngram_range = (1,2), token_pattern = '(\\S+)')\n",
    "    \n",
    "    tfidf_vectorizer = m_vectorizer.fit(X_train)\n",
    "    X_train = tfidf_vectorizer.transform(X_train)\n",
    "    X_val = tfidf_vectorizer.transform(X_val)\n",
    "    X_test = tfidf_vectorizer.transform(X_test)\n",
    "    #print(tfidf_vectorizer.stop_words_)\n",
    "    \n",
    "    return X_train, X_val, X_test, m_vectorizer.vocabulary_"
   ]
  },
  {
   "cell_type": "markdown",
   "metadata": {},
   "source": [
    "### MultiLabel classifier\n",
    "\n",
    "As we have noticed before, in this task each example can have multiple tags. To deal with such kind of prediction, we need to transform labels in a binary form and the prediction will be a mask of 0s and 1s. For this purpose it is convenient to use [MultiLabelBinarizer](http://scikit-learn.org/stable/modules/generated/sklearn.preprocessing.MultiLabelBinarizer.html) from *sklearn*."
   ]
  },
  {
   "cell_type": "code",
   "execution_count": 115,
   "metadata": {},
   "outputs": [],
   "source": [
    "from sklearn.preprocessing import MultiLabelBinarizer\n",
    "from sklearn.multiclass import OneVsRestClassifier\n",
    "from sklearn.linear_model import LogisticRegression\n",
    "from sklearn.pipeline import Pipeline\n",
    "from sklearn.model_selection import GridSearchCV\n",
    "from sklearn.metrics import f1_score"
   ]
  },
  {
   "cell_type": "code",
   "execution_count": 144,
   "metadata": {},
   "outputs": [],
   "source": [
    "estimators = [('vect',TfidfVectorizer(max_df = 0.9, min_df = 5,ngram_range = (1,2), token_pattern = '(\\S+)')),\n",
    "              ('logit',OneVsRestClassifier(LogisticRegression()))]\n",
    "pipe = Pipeline(estimators)\n",
    "y_train_binary = MultiLabelBinarizer(classes=sorted(tags_counts.keys())).fit_transform(y_train)\n",
    "pipe.fit(X_train,y_train_binary)\n",
    "predicted = pipe.predict(X_val)"
   ]
  },
  {
   "cell_type": "code",
   "execution_count": 146,
   "metadata": {},
   "outputs": [
    {
     "name": "stdout",
     "output_type": "stream",
     "text": [
      "0.0\n"
     ]
    },
    {
     "name": "stderr",
     "output_type": "stream",
     "text": [
      "/usr/local/lib/python3.5/dist-packages/sklearn/metrics/classification.py:1135: UndefinedMetricWarning: F-score is ill-defined and being set to 0.0 in labels with no predicted samples.\n",
      "  'precision', 'predicted', average, warn_for)\n"
     ]
    }
   ],
   "source": [
    "y_val_binary = MultiLabelBinarizer(classes=sorted(tags_counts.keys())).fit_transform(y_val)\n",
    "f1_score_weighted = f1_score(y_val_binary,predicted,average = 'weighted')\n",
    "print(f1_score_weighted)"
   ]
  },
  {
   "cell_type": "code",
   "execution_count": 145,
   "metadata": {},
   "outputs": [],
   "source": [
    "pipe.set_params(logit__estimator__C = 0.001)\n",
    "pipe.fit(X_train,y_train_binary)\n",
    "predicted = pipe.predict(X_val)"
   ]
  },
  {
   "cell_type": "code",
   "execution_count": 59,
   "metadata": {},
   "outputs": [],
   "source": [
    "mlb = MultiLabelBinarizer(classes=sorted(tags_counts.keys()))\n",
    "y_train = mlb.fit_transform(y_train)\n",
    "y_val = mlb.fit_transform(y_val)"
   ]
  },
  {
   "cell_type": "code",
   "execution_count": null,
   "metadata": {},
   "outputs": [],
   "source": []
  },
  {
   "cell_type": "markdown",
   "metadata": {},
   "source": [
    "Implement the function *train_classifier* for training a classifier. In this task we suggest to use One-vs-Rest approach, which is implemented in [OneVsRestClassifier](http://scikit-learn.org/stable/modules/generated/sklearn.multiclass.OneVsRestClassifier.html) class. In this approach *k* classifiers (= number of tags) are trained. As a basic classifier, use [LogisticRegression](http://scikit-learn.org/stable/modules/generated/sklearn.linear_model.LogisticRegression.html). It is one of the simplest methods, but often it performs good enough in text classification tasks. It might take some time, because a number of classifiers to train is large."
   ]
  },
  {
   "cell_type": "code",
   "execution_count": 256,
   "metadata": {},
   "outputs": [],
   "source": []
  },
  {
   "cell_type": "code",
   "execution_count": null,
   "metadata": {},
   "outputs": [],
   "source": [
    "\n"
   ]
  },
  {
   "cell_type": "code",
   "execution_count": 124,
   "metadata": {},
   "outputs": [],
   "source": [
    "def train_classifierA(X_train, y_train):\n",
    "    \"\"\"\n",
    "      X_train, y_train — training data\n",
    "      \n",
    "      return: trained classifier\n",
    "    \"\"\"\n",
    "    m_logit = LogisticRegression(penalty = 'l1',C = 100)\n",
    "    m_ovr = OneVsRestClassifier(m_logit)\n",
    "    m_classifier = m_ovr.fit(X_train,y_train)\n",
    "    return m_classifier"
   ]
  },
  {
   "cell_type": "code",
   "execution_count": null,
   "metadata": {},
   "outputs": [],
   "source": [
    "def train_classifierB(X_train, y_train):\n",
    "    \"\"\"\n",
    "      X_train, y_train — training data\n",
    "      \n",
    "      return: trained classifier\n",
    "    \"\"\"\n",
    "    m_logit = LogisticRegression(penalty = 'l1',C = 100)\n",
    "    m_ovr = OneVsRestClassifier(m_logit)\n",
    "    m_classifier = m_ovr.fit(X_train,y_train)\n",
    "    return m_classifier"
   ]
  },
  {
   "cell_type": "code",
   "execution_count": 125,
   "metadata": {},
   "outputs": [],
   "source": [
    "\n",
    "classifier_tfidf = train_classifier(X_train_tfidf, y_train)"
   ]
  },
  {
   "cell_type": "markdown",
   "metadata": {},
   "source": [
    "Now you can create predictions for the data. You will need two types of predictions: labels and scores."
   ]
  },
  {
   "cell_type": "markdown",
   "metadata": {},
   "source": [
    "Now take a look at how classifier, which uses TF-IDF, works for a few examples:"
   ]
  },
  {
   "cell_type": "markdown",
   "metadata": {},
   "source": [
    "### Evaluation\n",
    "\n",
    "To evaluate the results we will use several classification metrics:\n",
    " - [Accuracy](http://scikit-learn.org/stable/modules/generated/sklearn.metrics.accuracy_score.html)\n",
    " - [F1-score](http://scikit-learn.org/stable/modules/generated/sklearn.metrics.f1_score.html)\n",
    " - [Area under ROC-curve](http://scikit-learn.org/stable/modules/generated/sklearn.metrics.roc_auc_score.html)\n",
    " - [Area under precision-recall curve](http://scikit-learn.org/stable/modules/generated/sklearn.metrics.average_precision_score.html#sklearn.metrics.average_precision_score) \n",
    " \n",
    "Make sure you are familiar with all of them. How would you expect the things work for the multi-label scenario? Read about micro/macro/weighted averaging following the sklearn links provided above."
   ]
  },
  {
   "cell_type": "code",
   "execution_count": 130,
   "metadata": {},
   "outputs": [],
   "source": [
    "from sklearn.metrics import accuracy_score\n",
    "from sklearn.metrics import f1_score\n",
    "from sklearn.metrics import roc_auc_score \n",
    "from sklearn.metrics import average_precision_score\n",
    "from sklearn.metrics import recall_score"
   ]
  },
  {
   "cell_type": "markdown",
   "metadata": {},
   "source": [
    "Implement the function *print_evaluation_scores* which calculates and prints to stdout:\n",
    " - *accuracy*\n",
    " - *F1-score macro/micro/weighted*\n",
    " - *Precision macro/micro/weighted*"
   ]
  },
  {
   "cell_type": "markdown",
   "metadata": {},
   "source": [
    "You might also want to plot some generalization of the [ROC curve](http://scikit-learn.org/stable/modules/model_evaluation.html#receiver-operating-characteristic-roc) for the case of multi-label classification. Provided function *roc_auc* can make it for you. The input parameters of this function are:\n",
    " - true labels\n",
    " - decision functions scores\n",
    " - number of classes"
   ]
  },
  {
   "cell_type": "code",
   "execution_count": 134,
   "metadata": {},
   "outputs": [],
   "source": [
    "from metrics import roc_auc\n",
    "%matplotlib inline"
   ]
  },
  {
   "cell_type": "code",
   "execution_count": 135,
   "metadata": {},
   "outputs": [
    {
     "data": {
      "image/png": "[encoded data removed]",
      "text/plain": [
       "<matplotlib.figure.Figure at 0x7f43b8e063c8>"
      ]
     },
     "metadata": {},
     "output_type": "display_data"
    }
   ],
   "source": [
    "n_classes = len(tags_counts)\n",
    "roc_auc(y_val, y_val_predicted_scores_mybag, n_classes)"
   ]
  },
  {
   "cell_type": "code",
   "execution_count": null,
   "metadata": {
    "collapsed": true
   },
   "outputs": [],
   "source": [
    "n_classes = len(tags_counts)\n",
    "roc_auc(y_val, y_val_predicted_scores_tfidf, n_classes)"
   ]
  },
  {
   "cell_type": "markdown",
   "metadata": {},
   "source": [
    "**Task 4 (MultilabelClassification).** Once we have the evaluation set up, we suggest that you experiment a bit with training your classifiers. We will use *F1-score weighted* as an evaluation metric. Our recommendation:\n",
    "- compare the quality of the bag-of-words and TF-IDF approaches and chose one of them.\n",
    "- for the chosen one, try *L1* and *L2*-regularization techniques in Logistic Regression with different coefficients (e.g. C equal to 0.1, 1, 10, 100).\n",
    "\n",
    "You also could try other improvements of the preprocessing / model, if you want. "
   ]
  },
  {
   "cell_type": "markdown",
   "metadata": {},
   "source": [
    "Implement the function *print_words_for_tag* to find them. Get back to sklearn documentation on [OneVsRestClassifier](http://scikit-learn.org/stable/modules/generated/sklearn.multiclass.OneVsRestClassifier.html) and [LogisticRegression](http://scikit-learn.org/stable/modules/generated/sklearn.linear_model.LogisticRegression.html) if needed."
   ]
  },
  {
   "cell_type": "code",
   "execution_count": null,
   "metadata": {
    "collapsed": true
   },
   "outputs": [],
   "source": [
    "def print_words_for_tag(classifier, tag, tags_classes, index_to_words, all_words):\n",
    "    \"\"\"\n",
    "        classifier: trained classifier\n",
    "        tag: particular tag\n",
    "        tags_classes: a list of classes names from MultiLabelBinarizer\n",
    "        index_to_words: index_to_words transformation\n",
    "        all_words: all words in the dictionary\n",
    "        \n",
    "        return nothing, just print top 5 positive and top 5 negative words for current tag\n",
    "    \"\"\"\n",
    "    print('Tag:\\t{}'.format(tag))\n",
    "    \n",
    "    # Extract an estimator from the classifier for the given tag.\n",
    "    # Extract feature coefficients from the estimator. \n",
    "    \n",
    "    ######################################\n",
    "    ######### YOUR CODE HERE #############\n",
    "    ######################################\n",
    "    \n",
    "    top_positive_words = # top-5 words sorted by the coefficiens.\n",
    "    top_negative_words = # bottom-5 words  sorted by the coefficients.\n",
    "    print('Top positive words:\\t{}'.format(', '.join(top_positive_words)))\n",
    "    print('Top negative words:\\t{}\\n'.format(', '.join(top_negative_words)))"
   ]
  },
  {
   "cell_type": "code",
   "execution_count": null,
   "metadata": {
    "collapsed": true
   },
   "outputs": [],
   "source": [
    "print_words_for_tag(classifier_tfidf, 'c', mlb.classes, tfidf_reversed_vocab, ALL_WORDS)\n",
    "print_words_for_tag(classifier_tfidf, 'c++', mlb.classes, tfidf_reversed_vocab, ALL_WORDS)\n",
    "print_words_for_tag(classifier_tfidf, 'linux', mlb.classes, tfidf_reversed_vocab, ALL_WORDS)"
   ]
  }
 ],
 "metadata": {
  "celltoolbar": "Raw Cell Format",
  "kernelspec": {
   "display_name": "Python 3",
   "language": "python",
   "name": "python3"
  },
  "language_info": {
   "codemirror_mode": {
    "name": "ipython",
    "version": 3
   },
   "file_extension": ".py",
   "mimetype": "text/x-python",
   "name": "python",
   "nbconvert_exporter": "python",
   "pygments_lexer": "ipython3",
   "version": "3.5.2"
  }
 },
 "nbformat": 4,
 "nbformat_minor": 2
}
