{
 "cells": [
  {
   "cell_type": "code",
   "execution_count": 19,
   "metadata": {
    "collapsed": true
   },
   "outputs": [],
   "source": [
    "from __future__ import print_function\n",
    "\n",
    "import os\n",
    "import sys\n",
    "import numpy as np\n",
    "import scipy.io as sio\n",
    "import torch\n",
    "import torch.nn as nn\n",
    "import torch.nn.functional as F\n",
    "import torch.optim as optim\n",
    "import torch.utils.data as dataUtil"
   ]
  },
  {
   "cell_type": "code",
   "execution_count": 76,
   "metadata": {
    "collapsed": true
   },
   "outputs": [],
   "source": [
    "BASE_DIR = '/Users/kalpeshpatel/Downloads/'\n",
    "GLOVE_DIR = os.path.join(BASE_DIR, 'Glove')\n",
    "MAX_SEQUENCE_LENGTH = 3\n",
    "MAX_NUM_WORDS = 20000\n",
    "EMBEDDING_DIM = 100\n",
    "VALIDATION_SPLIT = 0.2\n",
    "BATCH_SIZE = 16"
   ]
  },
  {
   "cell_type": "code",
   "execution_count": 77,
   "metadata": {
    "collapsed": true
   },
   "outputs": [],
   "source": [
    "mat_contents = sio.loadmat('/users/kalpeshpatel/Downloads/data.mat')\n",
    "xx = mat_contents['data']"
   ]
  },
  {
   "cell_type": "code",
   "execution_count": 78,
   "metadata": {},
   "outputs": [
    {
     "name": "stdout",
     "output_type": "stream",
     "text": [
      "vocab size:250\n"
     ]
    }
   ],
   "source": [
    "## Extract vocabulary\n",
    "yy = xx['vocab'][0,0]\n",
    "index_to_word = {}\n",
    "word_to_index = {}\n",
    "vocab_size = yy.shape[1]\n",
    "print(\"vocab size:\" + str(vocab_size))\n",
    "for i in range(vocab_size):\n",
    "    word = yy[0][i][0]\n",
    "    #print(word)\n",
    "    index_to_word[i] = word\n",
    "    word_to_index[word] = i\n",
    "#print(word_to_index['just'])\n",
    "#print(index_to_word[11])"
   ]
  },
  {
   "cell_type": "code",
   "execution_count": 79,
   "metadata": {},
   "outputs": [
    {
     "name": "stdout",
     "output_type": "stream",
     "text": [
      "training_x:(372550, 3)\n",
      "tensor([[  31,  222,  199],\n",
      "        [  90,   67,   49],\n",
      "        [ 189,  245,  221],\n",
      "        [  25,  101,   10],\n",
      "        [ 237,   37,  236],\n",
      "        [  24,  138,   31],\n",
      "        [  22,    5,   22],\n",
      "        [  25,   89,  198],\n",
      "        [  35,   64,   25],\n",
      "        [  79,   22,  169],\n",
      "        [ 187,   31,  192],\n",
      "        [ 203,  245,   22],\n",
      "        [ 241,   31,   22],\n",
      "        [ 212,   55,  202],\n",
      "        [  73,  227,  147],\n",
      "        [ 108,  173,  202]])\n",
      "tensor([[ 216,  135,   32],\n",
      "        [ 157,  227,  197],\n",
      "        [ 187,   90,    0],\n",
      "        [  89,   99,  123],\n",
      "        [ 200,  185,  246],\n",
      "        [  35,  170,  123],\n",
      "        [  25,   31,  192],\n",
      "        [ 241,   31,  222],\n",
      "        [ 161,  157,  151],\n",
      "        [ 192,  136,   89],\n",
      "        [ 173,   25,  205],\n",
      "        [ 115,  108,  157],\n",
      "        [ 161,  241,   31],\n",
      "        [  12,   10,  157],\n",
      "        [ 225,   34,  166],\n",
      "        [ 222,   31,  157]])\n",
      "tensor([[  31,  105,  192],\n",
      "        [  41,  220,   24],\n",
      "        [ 157,  227,  105],\n",
      "        [ 241,  151,  162],\n",
      "        [  31,  222,  115],\n",
      "        [  89,  237,  152],\n",
      "        [ 215,   60,   25],\n",
      "        [ 139,  227,  201],\n",
      "        [  31,  222,   49],\n",
      "        [  13,   81,   43],\n",
      "        [  31,  222,   41],\n",
      "        [  31,  241,   12],\n",
      "        [  25,   65,  192],\n",
      "        [  59,   90,   31],\n",
      "        [ 241,   50,  222],\n",
      "        [  67,   43,   22]])\n",
      "tensor([[ 135,  248,  116],\n",
      "        [  73,   90,  182],\n",
      "        [  43,  248,  116],\n",
      "        [  43,  115,  105],\n",
      "        [ 107,  118,   33],\n",
      "        [ 183,   27,   25],\n",
      "        [ 241,   31,  222],\n",
      "        [  31,  222,   41],\n",
      "        [ 119,   22,  187],\n",
      "        [ 220,   35,   43],\n",
      "        [ 200,   22,   63],\n",
      "        [ 241,   31,  222],\n",
      "        [ 139,  151,  154],\n",
      "        [ 157,  227,   13],\n",
      "        [ 151,  222,   69],\n",
      "        [ 115,  192,  182]])\n",
      "tensor([[  73,  227,  101],\n",
      "        [ 222,   65,  157],\n",
      "        [  50,  222,  199],\n",
      "        [ 122,  108,   32],\n",
      "        [  63,  108,   53],\n",
      "        [  43,   12,   22],\n",
      "        [  29,  105,  248],\n",
      "        [  90,   67,  200],\n",
      "        [ 183,   43,  248],\n",
      "        [ 222,  237,  162],\n",
      "        [  41,  191,   90],\n",
      "        [  31,  222,   41],\n",
      "        [  39,   22,  169],\n",
      "        [  32,  175,  237],\n",
      "        [ 199,  157,   25],\n",
      "        [ 122,  200,   22]])\n",
      "tensor([[ 192,   25,   31],\n",
      "        [  21,  222,  172],\n",
      "        [   0,  139,  191],\n",
      "        [  31,  222,   41],\n",
      "        [  71,  108,  173],\n",
      "        [ 227,    0,  105],\n",
      "        [ 248,  205,  108],\n",
      "        [ 108,  157,  151],\n",
      "        [ 241,   21,   25],\n",
      "        [ 222,  115,   90],\n",
      "        [ 139,  183,    2],\n",
      "        [  22,  243,  136],\n",
      "        [ 183,  139,   75],\n",
      "        [  22,   42,   67],\n",
      "        [ 173,  151,  122],\n",
      "        [  89,  248,  205]])\n",
      "tensor([[ 192,  182,   89],\n",
      "        [ 237,  122,   50],\n",
      "        [  64,   48,  112],\n",
      "        [ 210,  169,  191],\n",
      "        [ 151,   93,   56],\n",
      "        [  22,   73,   31],\n",
      "        [ 192,  151,   19],\n",
      "        [ 115,   42,  178],\n",
      "        [  45,  241,   65],\n",
      "        [ 241,   50,  248],\n",
      "        [ 189,  142,    6],\n",
      "        [ 161,  153,   22],\n",
      "        [  41,   73,   25],\n",
      "        [ 192,   21,  101],\n",
      "        [  73,   31,  241],\n",
      "        [ 220,   67,   27]])\n",
      "tensor([[ 157,   21,  142],\n",
      "        [ 196,  157,  151],\n",
      "        [  90,   67,   43],\n",
      "        [ 248,  223,  227],\n",
      "        [ 139,  191,  127],\n",
      "        [  43,   91,  153],\n",
      "        [  50,  222,  196],\n",
      "        [   7,  202,   33],\n",
      "        [ 182,   31,   75],\n",
      "        [ 222,   65,  192],\n",
      "        [ 248,   55,  202],\n",
      "        [  27,   71,  108],\n",
      "        [ 222,  199,   25],\n",
      "        [ 173,  191,  237],\n",
      "        [ 241,   31,  222],\n",
      "        [ 134,   25,  196]])\n",
      "tensor([[  46,   22,  243],\n",
      "        [ 248,  195,  198],\n",
      "        [ 195,  237,   39],\n",
      "        [   0,  175,   95],\n",
      "        [ 220,  199,   25],\n",
      "        [ 223,   39,   22],\n",
      "        [ 248,  209,  151],\n",
      "        [  73,   50,  169],\n",
      "        [ 222,   35,   10],\n",
      "        [  73,  191,  192],\n",
      "        [ 191,  237,   39],\n",
      "        [  73,   25,   31],\n",
      "        [  54,  136,  189],\n",
      "        [ 220,   35,  226],\n",
      "        [ 189,  192,  200],\n",
      "        [ 222,   49,  121]])\n",
      "tensor([[ 116,  246,  200],\n",
      "        [  75,  248,  133],\n",
      "        [ 124,  169,  227],\n",
      "        [ 222,  189,  248],\n",
      "        [   0,  139,  151],\n",
      "        [ 241,  226,   25],\n",
      "        [ 101,  187,   12],\n",
      "        [ 222,  216,   32],\n",
      "        [  41,  105,  192],\n",
      "        [ 122,   75,  248],\n",
      "        [ 133,  200,  248],\n",
      "        [  50,  222,  199],\n",
      "        [ 227,  185,   84],\n",
      "        [  73,   90,  225],\n",
      "        [  92,   22,  169],\n",
      "        [ 169,   50,  222]])\n",
      "tensor([[ 154,  167,  237],\n",
      "        [ 241,   13,   31],\n",
      "        [  42,   21,   25],\n",
      "        [  22,  213,  145],\n",
      "        [  27,   25,   89],\n",
      "        [  73,   31,  220],\n",
      "        [  73,   31,  220],\n",
      "        [ 187,  245,   90],\n",
      "        [ 162,  108,  248],\n",
      "        [ 192,  136,  189],\n",
      "        [  90,   67,   27],\n",
      "        [  43,   89,  245],\n",
      "        [ 169,  189,  142],\n",
      "        [  67,   43,   60],\n",
      "        [ 229,    5,   22],\n",
      "        [ 169,  136,  196]])\n",
      "tensor([[ 241,   31,  222],\n",
      "        [  42,   50,  222],\n",
      "        [ 220,   31,  129],\n",
      "        [  27,   25,   89],\n",
      "        [ 183,   90,  106],\n",
      "        [  45,   78,  246],\n",
      "        [  25,   89,  172],\n",
      "        [ 169,   27,   25],\n",
      "        [ 130,   61,   49],\n",
      "        [  22,  213,  182],\n",
      "        [ 196,  192,  227],\n",
      "        [  22,  213,  145],\n",
      "        [ 122,   81,  157],\n",
      "        [ 246,   25,   12],\n",
      "        [ 142,  134,  108],\n",
      "        [  35,   25,   32]])\n",
      "tensor([[ 139,  183,  149],\n",
      "        [ 169,  227,  142],\n",
      "        [  31,   73,  241],\n",
      "        [ 241,   31,  222],\n",
      "        [ 151,  237,   33],\n",
      "        [ 189,   46,   22],\n",
      "        [  22,  169,  109],\n",
      "        [ 151,   71,   22]])\n"
     ]
    }
   ],
   "source": [
    "xx = mat_contents['data']\n",
    "training = xx['trainData'][0,0]\n",
    "training_x = training[0:3,].T\n",
    "training_x = training_x -1\n",
    "print(\"training_x:\" + str(training_x.shape))\n",
    "training_y = training[3,:].T\n",
    "training_y = training_y -1\n",
    "\n",
    "tiny_x = training_x[0:200]\n",
    "tiny_y = training_y[0:200]\n",
    "combined_data = dataUtil.TensorDataset(torch.tensor(tiny_x,dtype = torch.long),torch.tensor(tiny_y,dtype = torch.long))\n",
    "dataloader = dataUtil.DataLoader(combined_data,batch_size = BATCH_SIZE,shuffle = True)\n",
    "for i,input_x in enumerate(dataloader):\n",
    "    input_tensor = input_x[0]\n",
    "    target_tensor = input_x[1]\n",
    "    print(input_tensor)\n"
   ]
  },
  {
   "cell_type": "code",
   "execution_count": 80,
   "metadata": {
    "collapsed": true
   },
   "outputs": [],
   "source": [
    "class buildModel(nn.Module):\n",
    "    def __init__(self, vocab_size, embedding_dim):\n",
    "        super(buildModel, self).__init__()\n",
    "        self.embeddings = nn.Embedding(vocab_size,embedding_dim)\n",
    "        self.linear1 = nn.Linear(3*embedding_dim,128) # 3 is the size of context and 128 are number of output\n",
    "        self.linear2 = nn.Linear(128, vocab_size)\n",
    "    def forward(self,inputs):\n",
    "        embeds = self.embeddings(inputs).view((-1,3*100))\n",
    "        #embeds = self.embeddings(inputs)\n",
    "        x = F.tanh(self.linear1(embeds))\n",
    "        x = self.linear2(x)\n",
    "        out = F.softmax(x,dim = 1)\n",
    "        return(out)"
   ]
  },
  {
   "cell_type": "code",
   "execution_count": null,
   "metadata": {
    "collapsed": true
   },
   "outputs": [],
   "source": []
  },
  {
   "cell_type": "code",
   "execution_count": 81,
   "metadata": {
    "collapsed": true
   },
   "outputs": [],
   "source": [
    "losses = []\n",
    "loss_function = nn.CrossEntropyLoss()\n",
    "model = buildModel(vocab_size,EMBEDDING_DIM)\n",
    "opt = optim.SGD(model.parameters(),lr = 0.01)"
   ]
  },
  {
   "cell_type": "code",
   "execution_count": 82,
   "metadata": {},
   "outputs": [
    {
     "name": "stdout",
     "output_type": "stream",
     "text": [
      "tensor([[[-0.6081,  0.2953, -0.1917],\n",
      "         [-2.0608, -0.2215, -1.1001],\n",
      "         [-0.8123,  1.6028,  0.6948]],\n",
      "\n",
      "        [[-0.8123,  1.6028,  0.6948],\n",
      "         [ 0.2250,  1.0011, -0.2730],\n",
      "         [-2.0608, -0.2215, -1.1001]]])\n"
     ]
    },
    {
     "data": {
      "text/plain": [
       "tensor([[-0.6081,  0.2953, -0.1917, -2.0608, -0.2215, -1.1001, -0.8123,\n",
       "          1.6028,  0.6948],\n",
       "        [-0.8123,  1.6028,  0.6948,  0.2250,  1.0011, -0.2730, -2.0608,\n",
       "         -0.2215, -1.1001]])"
      ]
     },
     "execution_count": 82,
     "metadata": {},
     "output_type": "execute_result"
    }
   ],
   "source": [
    "test = torch.tensor([[1,2,4],[4,3,2]])\n",
    "embedding = nn.Embedding(10, 3)\n",
    "xx = embedding(test)\n",
    "print(xx)\n",
    "xx.view(-1,3*3)\n"
   ]
  },
  {
   "cell_type": "code",
   "execution_count": 83,
   "metadata": {},
   "outputs": [
    {
     "name": "stdout",
     "output_type": "stream",
     "text": [
      "batch: running_loss:  0 5.521697044372559\n",
      "batch: running_loss:  1 11.043093204498291\n",
      "batch: running_loss:  2 16.56463384628296\n",
      "batch: running_loss:  3 22.085818767547607\n",
      "batch: running_loss:  4 27.60733127593994\n",
      "batch: running_loss:  5 33.12857007980347\n",
      "batch: running_loss:  6 38.64979124069214\n",
      "batch: running_loss:  7 44.171300411224365\n",
      "batch: running_loss:  8 49.69272041320801\n",
      "batch: running_loss:  9 55.214001178741455\n",
      "batch: running_loss:  10 60.73538112640381\n",
      "batch: running_loss:  11 66.25717210769653\n",
      "batch: running_loss:  12 71.77846193313599\n"
     ]
    }
   ],
   "source": [
    "\n",
    "running_loss = 0\n",
    "total_loss = torch.Tensor([0])\n",
    "epoch = 1\n",
    "    \n",
    "for i,input_x in enumerate(dataloader):\n",
    "    input_tensor = input_x[0]\n",
    "    target_tensor = input_x[1]\n",
    "    opt.zero_grad()\n",
    "    model.zero_grad()\n",
    "    log_probs = model(input_tensor)\n",
    "    loss = loss_function(log_probs, target_tensor)\n",
    "    loss.backward()\n",
    "    opt.step()\n",
    "    running_loss += loss.item()\n",
    "    print(\"batch: running_loss: \", i, running_loss)\n",
    "    "
   ]
  },
  {
   "cell_type": "code",
   "execution_count": 62,
   "metadata": {
    "collapsed": true
   },
   "outputs": [],
   "source": [
    "def validation_loop(learning_rate):\n",
    "    complete_hist = {}\n",
    "    for lr in learning_rate:\n",
    "        print(lr)\n",
    "        opt = RMSprop(lr=lr, rho=0.9, epsilon=None, decay=0.0)\n",
    "        model.compile(loss='categorical_crossentropy',\n",
    "              optimizer= opt,\n",
    "              metrics=['acc'])\n",
    "        hist = model.fit(training_x,training_y_one,epochs=10, batch_size=32,\n",
    "                         validation_data = (valid_x,valid_y_one))\n",
    "        complete_hist[lr] = hist.history\n",
    "    return(complete_hist)"
   ]
  },
  {
   "cell_type": "code",
   "execution_count": 16,
   "metadata": {},
   "outputs": [
    {
     "name": "stdout",
     "output_type": "stream",
     "text": [
      "0.001\n",
      "Train on 372550 samples, validate on 46568 samples\n",
      "Epoch 1/10\n",
      "372550/372550 [==============================] - 67s 180us/step - loss: 3.2765 - acc: 0.2956 - val_loss: 3.1721 - val_acc: 0.3051\n",
      "Epoch 2/10\n",
      "372550/372550 [==============================] - 68s 183us/step - loss: 3.0924 - acc: 0.3245 - val_loss: 3.0921 - val_acc: 0.3221\n",
      "Epoch 3/10\n",
      "372550/372550 [==============================] - 65s 175us/step - loss: 3.0524 - acc: 0.3344 - val_loss: 3.0671 - val_acc: 0.3341\n",
      "Epoch 4/10\n",
      "372550/372550 [==============================] - 66s 177us/step - loss: 3.0220 - acc: 0.3398 - val_loss: 3.0443 - val_acc: 0.3371\n",
      "Epoch 5/10\n",
      "372550/372550 [==============================] - 65s 173us/step - loss: 2.9976 - acc: 0.3444 - val_loss: 3.0349 - val_acc: 0.3343\n",
      "Epoch 6/10\n",
      "372550/372550 [==============================] - 71s 190us/step - loss: 2.9839 - acc: 0.3470 - val_loss: 3.0160 - val_acc: 0.3439\n",
      "Epoch 7/10\n",
      "372550/372550 [==============================] - 65s 175us/step - loss: 2.9671 - acc: 0.3501 - val_loss: 3.0024 - val_acc: 0.3459\n",
      "Epoch 8/10\n",
      "372550/372550 [==============================] - 64s 173us/step - loss: 2.9601 - acc: 0.3516 - val_loss: 3.0047 - val_acc: 0.3491\n",
      "Epoch 9/10\n",
      "372550/372550 [==============================] - 64s 171us/step - loss: 2.9488 - acc: 0.3536 - val_loss: 2.9982 - val_acc: 0.3433\n",
      "Epoch 10/10\n",
      "372550/372550 [==============================] - 66s 178us/step - loss: 2.9386 - acc: 0.3543 - val_loss: 2.9866 - val_acc: 0.3484\n",
      "0.01\n",
      "Train on 372550 samples, validate on 46568 samples\n",
      "Epoch 1/10\n",
      "372550/372550 [==============================] - 67s 181us/step - loss: 4.1147 - acc: 0.2302 - val_loss: 4.2668 - val_acc: 0.2337\n",
      "Epoch 2/10\n",
      "372550/372550 [==============================] - 66s 176us/step - loss: 4.2222 - acc: 0.2370 - val_loss: 4.3910 - val_acc: 0.2085\n",
      "Epoch 3/10\n",
      "372550/372550 [==============================] - 66s 176us/step - loss: 4.2540 - acc: 0.2408 - val_loss: 4.6573 - val_acc: 0.2473\n",
      "Epoch 4/10\n",
      "372550/372550 [==============================] - 66s 176us/step - loss: 4.2389 - acc: 0.2432 - val_loss: 4.5390 - val_acc: 0.2358\n",
      "Epoch 5/10\n",
      "372550/372550 [==============================] - 66s 178us/step - loss: 4.2275 - acc: 0.2460 - val_loss: 4.3609 - val_acc: 0.2340\n",
      "Epoch 6/10\n",
      "372550/372550 [==============================] - 67s 180us/step - loss: 4.1916 - acc: 0.2475 - val_loss: 4.4256 - val_acc: 0.2285\n",
      "Epoch 7/10\n",
      "372550/372550 [==============================] - 64s 173us/step - loss: 4.1600 - acc: 0.2506 - val_loss: 4.3327 - val_acc: 0.2479\n",
      "Epoch 8/10\n",
      "372550/372550 [==============================] - 65s 174us/step - loss: 4.1496 - acc: 0.2513 - val_loss: 4.3703 - val_acc: 0.1862\n",
      "Epoch 9/10\n",
      "372550/372550 [==============================] - 66s 178us/step - loss: 4.1337 - acc: 0.2523 - val_loss: 4.5100 - val_acc: 0.1666\n",
      "Epoch 10/10\n",
      "372550/372550 [==============================] - 65s 175us/step - loss: 4.1174 - acc: 0.2534 - val_loss: 4.4690 - val_acc: 0.2012\n"
     ]
    }
   ],
   "source": [
    "#hist = model.fit(training_x,training_y_one,epochs=2, batch_size=32,validation_data = (valid_x,valid_y_one))\n",
    "#print(hist.history)\n",
    "return_hist = validation_loop([0.001,0.01])"
   ]
  },
  {
   "cell_type": "code",
   "execution_count": 17,
   "metadata": {},
   "outputs": [
    {
     "name": "stdout",
     "output_type": "stream",
     "text": [
      "lr: 0.001 Validation accuracy: 0.336333963237\n",
      "lr: 0.01 Validation accuracy: 0.218967960831\n"
     ]
    }
   ],
   "source": [
    "for i in return_hist.keys():\n",
    "    print(\"lr: \" + str(i) + \" Validation accuracy: \" + str (np.average(return_hist[i]['val_acc'])))"
   ]
  },
  {
   "cell_type": "code",
   "execution_count": 18,
   "metadata": {},
   "outputs": [
    {
     "name": "stdout",
     "output_type": "stream",
     "text": [
      "Accuracy: 0.320155471568459\n"
     ]
    }
   ],
   "source": [
    "from prettytable import PrettyTable\n",
    "table = PrettyTable()\n",
    "accuracy = 0\n",
    "table.field_names = [\"#\", \"Word1\", \"word2\", \"word3\", \"expected\", \"actual1\", \"actual2\",\"actual3\"]\n",
    "classes = model.predict(test_x,batch_size = 32)\n",
    "for  i in range(classes.shape[0]):\n",
    "    output = np.random.choice(a= yy[0],size = 3,p = classes[i,:], replace = False)\n",
    "    if (index_to_word[test_y[i]] in output):\n",
    "        accuracy += 1\n",
    "    #table.add_row([i,index_to_word[test_x[i,0]],index_to_word[test_x[i,1]], index_to_word[test_x[i,2]],index_to_word[test_y[i]],output[0],output[1],output[2]])    \n",
    "print(\"Accuracy: \"+ str(accuracy/classes.shape[0]))\n",
    "#print(table) "
   ]
  },
  {
   "cell_type": "code",
   "execution_count": null,
   "metadata": {
    "collapsed": true
   },
   "outputs": [],
   "source": []
  }
 ],
 "metadata": {
  "kernelspec": {
   "display_name": "Python 3",
   "language": "python",
   "name": "python3"
  },
  "language_info": {
   "codemirror_mode": {
    "name": "ipython",
    "version": 3
   },
   "file_extension": ".py",
   "mimetype": "text/x-python",
   "name": "python",
   "nbconvert_exporter": "python",
   "pygments_lexer": "ipython3",
   "version": "3.6.1"
  }
 },
 "nbformat": 4,
 "nbformat_minor": 2
}
