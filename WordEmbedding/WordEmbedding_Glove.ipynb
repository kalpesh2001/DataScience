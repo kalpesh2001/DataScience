{
 "cells": [
  {
   "cell_type": "code",
   "execution_count": 154,
   "metadata": {},
   "outputs": [
    {
     "data": {
      "text/plain": [
       "'This script loads pre-trained word embeddings (GloVe embeddings)\\ninto a frozen Keras Embedding layer, and uses it to\\ntrain a text classification model on the 20 Newsgroup dataset\\n(classification of newsgroup messages into 20 different categories).\\nGloVe embedding data can be found at:\\nhttp://nlp.stanford.edu/data/glove.6B.zip\\n(source page: http://nlp.stanford.edu/projects/glove/)\\n'"
      ]
     },
     "execution_count": 154,
     "metadata": {},
     "output_type": "execute_result"
    }
   ],
   "source": [
    "'''This script loads pre-trained word embeddings (GloVe embeddings)\n",
    "into a frozen Keras Embedding layer, and uses it to\n",
    "train a text classification model on the 20 Newsgroup dataset\n",
    "(classification of newsgroup messages into 20 different categories).\n",
    "GloVe embedding data can be found at:\n",
    "http://nlp.stanford.edu/data/glove.6B.zip\n",
    "(source page: http://nlp.stanford.edu/projects/glove/)\n",
    "'''"
   ]
  },
  {
   "cell_type": "code",
   "execution_count": 1,
   "metadata": {},
   "outputs": [
    {
     "name": "stderr",
     "output_type": "stream",
     "text": [
      "Using TensorFlow backend.\n"
     ]
    }
   ],
   "source": [
    "from __future__ import print_function\n",
    "\n",
    "import os\n",
    "import sys\n",
    "import numpy as np\n",
    "from keras.utils import to_categorical\n",
    "from keras.layers import Dense, Input\n",
    "from keras.layers import Embedding, Flatten\n",
    "from keras.models import Model\n",
    "from keras.optimizers import RMSprop\n",
    "import scipy.io as sio"
   ]
  },
  {
   "cell_type": "code",
   "execution_count": 2,
   "metadata": {
    "collapsed": true
   },
   "outputs": [],
   "source": [
    "BASE_DIR = '/Users/kalpeshpatel/Downloads/'\n",
    "GLOVE_DIR = os.path.join(BASE_DIR, 'Glove')\n",
    "MAX_SEQUENCE_LENGTH = 3\n",
    "MAX_NUM_WORDS = 20000\n",
    "EMBEDDING_DIM = 100\n",
    "VALIDATION_SPLIT = 0.2"
   ]
  },
  {
   "cell_type": "code",
   "execution_count": 3,
   "metadata": {},
   "outputs": [
    {
     "name": "stdout",
     "output_type": "stream",
     "text": [
      "Indexing word vectors.\n",
      "Found 400000 word vectors.\n"
     ]
    }
   ],
   "source": [
    "# first, build index mapping words in the embeddings set\n",
    "# to their embedding vector\n",
    "\n",
    "print('Indexing word vectors.')\n",
    "\n",
    "embeddings_index = {}\n",
    "with open(os.path.join(GLOVE_DIR, 'glove.6B.100d.txt')) as f:\n",
    "    for line in f:\n",
    "        values = line.split()\n",
    "        word = values[0]\n",
    "        coefs = np.asarray(values[1:], dtype='float32')\n",
    "        embeddings_index[word] = coefs\n",
    "\n",
    "print('Found %s word vectors.' % len(embeddings_index))"
   ]
  },
  {
   "cell_type": "code",
   "execution_count": 4,
   "metadata": {
    "collapsed": true
   },
   "outputs": [],
   "source": [
    "mat_contents = sio.loadmat('/users/kalpeshpatel/Downloads/data.mat')\n",
    "xx = mat_contents['data']"
   ]
  },
  {
   "cell_type": "code",
   "execution_count": 5,
   "metadata": {},
   "outputs": [
    {
     "name": "stdout",
     "output_type": "stream",
     "text": [
      "vocab size:250\n"
     ]
    }
   ],
   "source": [
    "## Extract vocabulary\n",
    "yy = xx['vocab'][0,0]\n",
    "index_to_word = {}\n",
    "word_to_index = {}\n",
    "vocab_size = yy.shape[1]\n",
    "print(\"vocab size:\" + str(vocab_size))\n",
    "for i in range(vocab_size):\n",
    "    word = yy[0][i][0]\n",
    "    #print(word)\n",
    "    index_to_word[i] = word\n",
    "    word_to_index[word] = i\n",
    "#print(word_to_index['just'])\n",
    "#print(index_to_word[11])"
   ]
  },
  {
   "cell_type": "code",
   "execution_count": 6,
   "metadata": {
    "collapsed": true
   },
   "outputs": [],
   "source": [
    "# Create Embedding matrix\n",
    "embedding_matrix = np.zeros((vocab_size, EMBEDDING_DIM))\n",
    "for word, i in word_to_index.items():\n",
    "    embedding_vector = embeddings_index.get(word)\n",
    "    if embedding_vector is not None:\n",
    "        # words not found in embedding index will be all-zeros.\n",
    "        embedding_matrix[i] = embedding_vector"
   ]
  },
  {
   "cell_type": "code",
   "execution_count": 8,
   "metadata": {
    "collapsed": true
   },
   "outputs": [],
   "source": [
    "#load pre-trained word embeddings into an Embedding layer\n",
    "# note that we set trainable = False so as to keep the embeddings fixed\n",
    "embedding_layer = Embedding(vocab_size,\n",
    "                            EMBEDDING_DIM,\n",
    "                            weights=[embedding_matrix],\n",
    "                            input_length=MAX_SEQUENCE_LENGTH,\n",
    "                            trainable=False)\n",
    "# Build the embedding layer, it is required before setting the weights of the embedding layer. Do not modify the \"None\".\n",
    "embedding_layer.build((None,))\n",
    "# Set the weights of the embedding layer to the embedding matrix. Your layer is now pretrained.\n",
    "embedding_layer.set_weights([embedding_matrix])"
   ]
  },
  {
   "cell_type": "code",
   "execution_count": 9,
   "metadata": {},
   "outputs": [
    {
     "name": "stdout",
     "output_type": "stream",
     "text": [
      "training_x:(372550, 3)\n"
     ]
    },
    {
     "data": {
      "text/plain": [
       "(372550, 250)"
      ]
     },
     "execution_count": 9,
     "metadata": {},
     "output_type": "execute_result"
    }
   ],
   "source": [
    "xx = mat_contents['data']\n",
    "training = xx['trainData'][0,0]\n",
    "training_x = training[0:3,].T\n",
    "training_x = training_x -1\n",
    "print(\"training_x:\" + str(training_x.shape))\n",
    "training_y = training[3,:].T\n",
    "training_y = training_y -1\n",
    "training_y_one = to_categorical(training_y)\n",
    "training_y_one.shape"
   ]
  },
  {
   "cell_type": "code",
   "execution_count": 10,
   "metadata": {},
   "outputs": [
    {
     "name": "stdout",
     "output_type": "stream",
     "text": [
      "test_x:(46568, 3)\n"
     ]
    },
    {
     "data": {
      "text/plain": [
       "(46568,)"
      ]
     },
     "execution_count": 10,
     "metadata": {},
     "output_type": "execute_result"
    }
   ],
   "source": [
    "#Load Test data\n",
    "# Subtract one to get index between 0 and vocab - 1\n",
    "\n",
    "test = xx['testData'][0,0]\n",
    "test_x = test[0:3,].T\n",
    "test_x = test_x - 1\n",
    "print(\"test_x:\" + str(test_x.shape))\n",
    "test_y = test[3].T\n",
    "test_y = test_y - 1\n",
    "test_y_one = to_categorical(test_y)\n",
    "test_y_one.shape\n",
    "test_y.shape"
   ]
  },
  {
   "cell_type": "code",
   "execution_count": 11,
   "metadata": {},
   "outputs": [
    {
     "data": {
      "text/plain": [
       "(46568,)"
      ]
     },
     "execution_count": 11,
     "metadata": {},
     "output_type": "execute_result"
    }
   ],
   "source": [
    "# Load validation data\n",
    "\n",
    "valid = xx['validData'][0,0]\n",
    "valid_x = valid[0:3,].T\n",
    "valid_x = valid_x - 1\n",
    "valid_x.shape\n",
    "valid_y = (valid[3,].T) - 1\n",
    "valid_y_one = to_categorical(valid_y)\n",
    "valid_y.shape"
   ]
  },
  {
   "cell_type": "code",
   "execution_count": 12,
   "metadata": {
    "collapsed": true
   },
   "outputs": [],
   "source": [
    "cache = (training_x,training_y,yy)"
   ]
  },
  {
   "cell_type": "code",
   "execution_count": 13,
   "metadata": {
    "collapsed": true
   },
   "outputs": [],
   "source": [
    "def buildModel(cache):\n",
    "    \n",
    "    training_x,training_y,vocab = cache\n",
    "    vocabSize = vocab.shape[1]\n",
    "    #input_length = training_x.shape[1] -- same as MAX_SEQ_LENGTH\n",
    "    denseLayer = 200\n",
    "        \n",
    "    sequence_input = Input(shape=(MAX_SEQUENCE_LENGTH,), dtype='int32')\n",
    "    embedded_sequences = embedding_layer(sequence_input)\n",
    "    x = Flatten()(embedded_sequences)\n",
    "    x = Dense(denseLayer, activation = 'tanh')(x)\n",
    "    preds = Dense(vocabSize,activation = 'softmax')(x)\n",
    "    model = Model(sequence_input, preds)\n",
    "    model.summary()\n",
    "    return model"
   ]
  },
  {
   "cell_type": "code",
   "execution_count": 14,
   "metadata": {},
   "outputs": [
    {
     "name": "stdout",
     "output_type": "stream",
     "text": [
      "_________________________________________________________________\n",
      "Layer (type)                 Output Shape              Param #   \n",
      "=================================================================\n",
      "input_1 (InputLayer)         (None, 3)                 0         \n",
      "_________________________________________________________________\n",
      "embedding_2 (Embedding)      (None, 3, 100)            25000     \n",
      "_________________________________________________________________\n",
      "flatten_1 (Flatten)          (None, 300)               0         \n",
      "_________________________________________________________________\n",
      "dense_1 (Dense)              (None, 200)               60200     \n",
      "_________________________________________________________________\n",
      "dense_2 (Dense)              (None, 250)               50250     \n",
      "=================================================================\n",
      "Total params: 135,450\n",
      "Trainable params: 110,450\n",
      "Non-trainable params: 25,000\n",
      "_________________________________________________________________\n"
     ]
    }
   ],
   "source": [
    "model = buildModel(cache)"
   ]
  },
  {
   "cell_type": "code",
   "execution_count": 15,
   "metadata": {
    "collapsed": true
   },
   "outputs": [],
   "source": [
    "def validation_loop(learning_rate):\n",
    "    complete_hist = {}\n",
    "    for lr in learning_rate:\n",
    "        print(lr)\n",
    "        opt = RMSprop(lr=lr, rho=0.9, epsilon=None, decay=0.0)\n",
    "        model.compile(loss='categorical_crossentropy',\n",
    "              optimizer= opt,\n",
    "              metrics=['acc'])\n",
    "        hist = model.fit(training_x,training_y_one,epochs=10, batch_size=32,\n",
    "                         validation_data = (valid_x,valid_y_one))\n",
    "        complete_hist[lr] = hist.history\n",
    "    return(complete_hist)"
   ]
  },
  {
   "cell_type": "code",
   "execution_count": 16,
   "metadata": {},
   "outputs": [
    {
     "name": "stdout",
     "output_type": "stream",
     "text": [
      "0.001\n",
      "Train on 372550 samples, validate on 46568 samples\n",
      "Epoch 1/10\n",
      "372550/372550 [==============================] - 67s 180us/step - loss: 3.2765 - acc: 0.2956 - val_loss: 3.1721 - val_acc: 0.3051\n",
      "Epoch 2/10\n",
      "372550/372550 [==============================] - 68s 183us/step - loss: 3.0924 - acc: 0.3245 - val_loss: 3.0921 - val_acc: 0.3221\n",
      "Epoch 3/10\n",
      "372550/372550 [==============================] - 65s 175us/step - loss: 3.0524 - acc: 0.3344 - val_loss: 3.0671 - val_acc: 0.3341\n",
      "Epoch 4/10\n",
      "372550/372550 [==============================] - 66s 177us/step - loss: 3.0220 - acc: 0.3398 - val_loss: 3.0443 - val_acc: 0.3371\n",
      "Epoch 5/10\n",
      "372550/372550 [==============================] - 65s 173us/step - loss: 2.9976 - acc: 0.3444 - val_loss: 3.0349 - val_acc: 0.3343\n",
      "Epoch 6/10\n",
      "372550/372550 [==============================] - 71s 190us/step - loss: 2.9839 - acc: 0.3470 - val_loss: 3.0160 - val_acc: 0.3439\n",
      "Epoch 7/10\n",
      "372550/372550 [==============================] - 65s 175us/step - loss: 2.9671 - acc: 0.3501 - val_loss: 3.0024 - val_acc: 0.3459\n",
      "Epoch 8/10\n",
      "372550/372550 [==============================] - 64s 173us/step - loss: 2.9601 - acc: 0.3516 - val_loss: 3.0047 - val_acc: 0.3491\n",
      "Epoch 9/10\n",
      "372550/372550 [==============================] - 64s 171us/step - loss: 2.9488 - acc: 0.3536 - val_loss: 2.9982 - val_acc: 0.3433\n",
      "Epoch 10/10\n",
      "372550/372550 [==============================] - 66s 178us/step - loss: 2.9386 - acc: 0.3543 - val_loss: 2.9866 - val_acc: 0.3484\n",
      "0.01\n",
      "Train on 372550 samples, validate on 46568 samples\n",
      "Epoch 1/10\n",
      "372550/372550 [==============================] - 67s 181us/step - loss: 4.1147 - acc: 0.2302 - val_loss: 4.2668 - val_acc: 0.2337\n",
      "Epoch 2/10\n",
      "372550/372550 [==============================] - 66s 176us/step - loss: 4.2222 - acc: 0.2370 - val_loss: 4.3910 - val_acc: 0.2085\n",
      "Epoch 3/10\n",
      "372550/372550 [==============================] - 66s 176us/step - loss: 4.2540 - acc: 0.2408 - val_loss: 4.6573 - val_acc: 0.2473\n",
      "Epoch 4/10\n",
      "372550/372550 [==============================] - 66s 176us/step - loss: 4.2389 - acc: 0.2432 - val_loss: 4.5390 - val_acc: 0.2358\n",
      "Epoch 5/10\n",
      "372550/372550 [==============================] - 66s 178us/step - loss: 4.2275 - acc: 0.2460 - val_loss: 4.3609 - val_acc: 0.2340\n",
      "Epoch 6/10\n",
      "372550/372550 [==============================] - 67s 180us/step - loss: 4.1916 - acc: 0.2475 - val_loss: 4.4256 - val_acc: 0.2285\n",
      "Epoch 7/10\n",
      "372550/372550 [==============================] - 64s 173us/step - loss: 4.1600 - acc: 0.2506 - val_loss: 4.3327 - val_acc: 0.2479\n",
      "Epoch 8/10\n",
      "372550/372550 [==============================] - 65s 174us/step - loss: 4.1496 - acc: 0.2513 - val_loss: 4.3703 - val_acc: 0.1862\n",
      "Epoch 9/10\n",
      "372550/372550 [==============================] - 66s 178us/step - loss: 4.1337 - acc: 0.2523 - val_loss: 4.5100 - val_acc: 0.1666\n",
      "Epoch 10/10\n",
      "372550/372550 [==============================] - 65s 175us/step - loss: 4.1174 - acc: 0.2534 - val_loss: 4.4690 - val_acc: 0.2012\n"
     ]
    }
   ],
   "source": [
    "#hist = model.fit(training_x,training_y_one,epochs=2, batch_size=32,validation_data = (valid_x,valid_y_one))\n",
    "#print(hist.history)\n",
    "return_hist = validation_loop([0.001,0.01])"
   ]
  },
  {
   "cell_type": "code",
   "execution_count": 17,
   "metadata": {},
   "outputs": [
    {
     "name": "stdout",
     "output_type": "stream",
     "text": [
      "lr: 0.001 Validation accuracy: 0.336333963237\n",
      "lr: 0.01 Validation accuracy: 0.218967960831\n"
     ]
    }
   ],
   "source": [
    "for i in return_hist.keys():\n",
    "    print(\"lr: \" + str(i) + \" Validation accuracy: \" + str (np.average(return_hist[i]['val_acc'])))"
   ]
  },
  {
   "cell_type": "code",
   "execution_count": 18,
   "metadata": {},
   "outputs": [
    {
     "name": "stdout",
     "output_type": "stream",
     "text": [
      "Accuracy: 0.320155471568459\n"
     ]
    }
   ],
   "source": [
    "from prettytable import PrettyTable\n",
    "table = PrettyTable()\n",
    "accuracy = 0\n",
    "table.field_names = [\"#\", \"Word1\", \"word2\", \"word3\", \"expected\", \"actual1\", \"actual2\",\"actual3\"]\n",
    "classes = model.predict(test_x,batch_size = 32)\n",
    "for  i in range(classes.shape[0]):\n",
    "    output = np.random.choice(a= yy[0],size = 3,p = classes[i,:], replace = False)\n",
    "    if (index_to_word[test_y[i]] in output):\n",
    "        accuracy += 1\n",
    "    #table.add_row([i,index_to_word[test_x[i,0]],index_to_word[test_x[i,1]], index_to_word[test_x[i,2]],index_to_word[test_y[i]],output[0],output[1],output[2]])    \n",
    "print(\"Accuracy: \"+ str(accuracy/classes.shape[0]))\n",
    "#print(table) "
   ]
  },
  {
   "cell_type": "code",
   "execution_count": null,
   "metadata": {
    "collapsed": true
   },
   "outputs": [],
   "source": []
  }
 ],
 "metadata": {
  "kernelspec": {
   "display_name": "Python 3",
   "language": "python",
   "name": "python3"
  },
  "language_info": {
   "codemirror_mode": {
    "name": "ipython",
    "version": 3
   },
   "file_extension": ".py",
   "mimetype": "text/x-python",
   "name": "python",
   "nbconvert_exporter": "python",
   "pygments_lexer": "ipython3",
   "version": "3.6.1"
  }
 },
 "nbformat": 4,
 "nbformat_minor": 2
}
