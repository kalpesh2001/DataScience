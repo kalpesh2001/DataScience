{
 "cells": [
  {
   "cell_type": "raw",
   "metadata": {},
   "source": [
    "### Neural Language model implementation [Bengio, 2003](http://www.jmlr.org/papers/volume3/bengio03a/bengio03a.pdf) in Keras"
   ]
  },
  {
   "cell_type": "code",
   "execution_count": 2,
   "metadata": {},
   "outputs": [
    {
     "name": "stderr",
     "output_type": "stream",
     "text": [
      "Using TensorFlow backend.\n"
     ]
    }
   ],
   "source": [
    "import scipy.io as sio\n",
    "import numpy as np\n",
    "from keras.utils import to_categorical "
   ]
  },
  {
   "cell_type": "code",
   "execution_count": 3,
   "metadata": {
    "collapsed": true
   },
   "outputs": [],
   "source": [
    "# Load file in matlab format\n",
    "mat_contents = sio.loadmat('/users/kalpeshpatel/Downloads/data.mat')"
   ]
  },
  {
   "cell_type": "code",
   "execution_count": 3,
   "metadata": {},
   "outputs": [
    {
     "name": "stdout",
     "output_type": "stream",
     "text": [
      "training_x:(372550, 3)\n"
     ]
    },
    {
     "data": {
      "text/plain": [
       "(372550, 250)"
      ]
     },
     "execution_count": 3,
     "metadata": {},
     "output_type": "execute_result"
    }
   ],
   "source": [
    "# Load Training data\n",
    "xx = mat_contents['data']\n",
    "training = xx['trainData'][0,0]\n",
    "training_x = training[0:3,].T\n",
    "training_x = training_x -1\n",
    "print(\"training_x:\" + str(training_x.shape))\n",
    "training_y = training[3,:].T\n",
    "training_y = training_y -1\n",
    "training_y_one = to_categorical(training_y)\n",
    "training_y_one.shape"
   ]
  },
  {
   "cell_type": "code",
   "execution_count": 4,
   "metadata": {},
   "outputs": [
    {
     "name": "stdout",
     "output_type": "stream",
     "text": [
      "test_x:(46568, 3)\n"
     ]
    },
    {
     "data": {
      "text/plain": [
       "(46568,)"
      ]
     },
     "execution_count": 4,
     "metadata": {},
     "output_type": "execute_result"
    }
   ],
   "source": [
    "# Load Test data\n",
    "\n",
    "test = xx['testData'][0,0]\n",
    "test_x = test[0:3,].T\n",
    "test_x = test_x - 1\n",
    "print(\"test_x:\" + str(test_x.shape))\n",
    "test_y = test[3].T\n",
    "test_y = test_y - 1\n",
    "test_y_one = to_categorical(test_y)\n",
    "test_y_one.shape\n",
    "test_y.shape"
   ]
  },
  {
   "cell_type": "code",
   "execution_count": 5,
   "metadata": {},
   "outputs": [
    {
     "data": {
      "text/plain": [
       "(46568,)"
      ]
     },
     "execution_count": 5,
     "metadata": {},
     "output_type": "execute_result"
    }
   ],
   "source": [
    "# Load validation data\n",
    "\n",
    "valid = xx['validData'][0,0]\n",
    "valid_x = valid[0:3,]\n",
    "valid_x.shape\n",
    "valid_y = valid[3,]\n",
    "valid_y.shape"
   ]
  },
  {
   "cell_type": "code",
   "execution_count": 6,
   "metadata": {
    "collapsed": true
   },
   "outputs": [],
   "source": [
    "yy = xx['vocab'][0,0]\n",
    "index_to_word = {}\n",
    "word_to_index = {}\n",
    "vocab_size = yy.shape[1]\n",
    "#print(\"vocab size:\" + str(vocab_size))\n",
    "for i in range(yy.shape[1]):\n",
    "    word = yy[0][i][0]\n",
    "    #print(word)\n",
    "    index_to_word[i] = word\n",
    "    word_to_index[word] = i\n",
    "#print(word_to_index['just'])\n",
    "#print(index_to_word[11])"
   ]
  },
  {
   "cell_type": "code",
   "execution_count": 7,
   "metadata": {
    "collapsed": true
   },
   "outputs": [],
   "source": [
    "cache = (training_x,training_y,yy)"
   ]
  },
  {
   "cell_type": "code",
   "execution_count": null,
   "metadata": {
    "collapsed": true
   },
   "outputs": [],
   "source": [
    "# Add training and validation split from Keras"
   ]
  },
  {
   "cell_type": "code",
   "execution_count": 8,
   "metadata": {
    "collapsed": true
   },
   "outputs": [],
   "source": [
    "from keras.models import Sequential\n",
    "from keras.layers import Dense, Activation, Flatten, Embedding\n",
    "from keras.optimizers import Adam"
   ]
  },
  {
   "cell_type": "code",
   "execution_count": 9,
   "metadata": {
    "collapsed": true
   },
   "outputs": [],
   "source": [
    "# Notes for embedding: the model will take as input matrix of size (batch, input_length = 3).\n",
    "# the largest integer (i.e. word index) in the input should be no larger than 250 (vocabulary size).\n",
    "\n",
    "def buildModel(cache):\n",
    "    \n",
    "    training_x,training_y,vocab = cache\n",
    "    vocabSize = vocab.shape[1]\n",
    "    input_length = training_x.shape[1]\n",
    "    vectorSize = 50\n",
    "    denseLayer = 200\n",
    "    model = Sequential()\n",
    "    model.add(Embedding(vocabSize, vectorSize, input_length=input_length))\n",
    "    model.add(Flatten())\n",
    "    model.add(Dense(denseLayer,activation = 'tanh'))\n",
    "    model.add(Dense(vocabSize,activation = 'softmax'))\n",
    "    model.summary()\n",
    "    return model"
   ]
  },
  {
   "cell_type": "code",
   "execution_count": 11,
   "metadata": {
    "collapsed": true
   },
   "outputs": [],
   "source": [
    "from prettytable import PrettyTable\n",
    "table = PrettyTable()\n",
    "table.field_names = [\"#\", \"Word1\", \"word2\", \"word3\", \"output\", \"actual\"]\n",
    "classes = model.predict(test_x,batch_size = 64)\n",
    "for  i in range(classes.shape[0]):\n",
    "    output = np.random.choice(a= yy[0],p = classes[i,:])\n",
    "    table.add_row([i,index_to_word[test_x[i,0]],index_to_word[test_x[i,1]], index_to_word[test_x[i,2]],index_to_word[test_y[i]],output])\n",
    "    #print(str(i) + \" \" + index_to_word[test_x[i,0]] + \" \" + index_to_word[test_x[i,1]] + \" \" + index_to_word[test_x[i,2]] + \" \" + index_to_word[test_y[i]] + \" \" + str(output))\n",
    "#print(table) "
   ]
  },
  {
   "cell_type": "code",
   "execution_count": null,
   "metadata": {
    "collapsed": true
   },
   "outputs": [],
   "source": []
  }
 ],
 "metadata": {
  "kernelspec": {
   "display_name": "Python 3",
   "language": "python",
   "name": "python3"
  },
  "language_info": {
   "codemirror_mode": {
    "name": "ipython",
    "version": 3
   },
   "file_extension": ".py",
   "mimetype": "text/x-python",
   "name": "python",
   "nbconvert_exporter": "python",
   "pygments_lexer": "ipython3",
   "version": "3.6.1"
  }
 },
 "nbformat": 4,
 "nbformat_minor": 2
}
