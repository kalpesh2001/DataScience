{
 "cells": [
  {
   "cell_type": "code",
   "execution_count": 3,
   "metadata": {
    "collapsed": true
   },
   "outputs": [],
   "source": [
    "from __future__ import print_function\n",
    "\n",
    "import os\n",
    "import sys\n",
    "import numpy as np\n",
    "import scipy.io as sio\n",
    "import torch\n",
    "import torch.nn as nn\n",
    "import torch.nn.functional as F\n",
    "import torch.optim as optim\n",
    "import torch.utils.data as dataUtil"
   ]
  },
  {
   "cell_type": "code",
   "execution_count": 4,
   "metadata": {
    "collapsed": true
   },
   "outputs": [],
   "source": [
    "BASE_DIR = '/Users/kalpeshpatel/Downloads/'\n",
    "GLOVE_DIR = os.path.join(BASE_DIR, 'Glove')\n",
    "MAX_SEQUENCE_LENGTH = 3\n",
    "MAX_NUM_WORDS = 20000\n",
    "EMBEDDING_DIM = 100\n",
    "VALIDATION_SPLIT = 0.2\n",
    "BATCH_SIZE = 4"
   ]
  },
  {
   "cell_type": "code",
   "execution_count": 5,
   "metadata": {
    "collapsed": true
   },
   "outputs": [],
   "source": [
    "mat_contents = sio.loadmat('/users/kalpeshpatel/Downloads/data.mat')\n",
    "xx = mat_contents['data']"
   ]
  },
  {
   "cell_type": "code",
   "execution_count": 6,
   "metadata": {},
   "outputs": [
    {
     "name": "stdout",
     "output_type": "stream",
     "text": [
      "vocab size:250\n"
     ]
    }
   ],
   "source": [
    "## Extract vocabulary\n",
    "yy = xx['vocab'][0,0]\n",
    "index_to_word = {}\n",
    "word_to_index = {}\n",
    "vocab_size = yy.shape[1]\n",
    "print(\"vocab size:\" + str(vocab_size))\n",
    "for i in range(vocab_size):\n",
    "    word = yy[0][i][0]\n",
    "    #print(word)\n",
    "    index_to_word[i] = word\n",
    "    word_to_index[word] = i\n",
    "#print(word_to_index['just'])\n",
    "#print(index_to_word[11])"
   ]
  },
  {
   "cell_type": "code",
   "execution_count": 7,
   "metadata": {},
   "outputs": [
    {
     "name": "stdout",
     "output_type": "stream",
     "text": [
      "training_x:(372550, 3)\n"
     ]
    }
   ],
   "source": [
    "xx = mat_contents['data']\n",
    "training = xx['trainData'][0,0]\n",
    "training_x = training[0:3,].T\n",
    "training_x = training_x -1\n",
    "print(\"training_x:\" + str(training_x.shape))\n",
    "training_y = training[3,:].T\n",
    "training_y = training_y -1"
   ]
  },
  {
   "cell_type": "code",
   "execution_count": 8,
   "metadata": {},
   "outputs": [
    {
     "name": "stdout",
     "output_type": "stream",
     "text": [
      "test_x:(46568, 3)\n"
     ]
    },
    {
     "data": {
      "text/plain": [
       "(46568,)"
      ]
     },
     "execution_count": 8,
     "metadata": {},
     "output_type": "execute_result"
    }
   ],
   "source": [
    "#Load Test data\n",
    "# Subtract one to get index between 0 and vocab - 1\n",
    "\n",
    "test = xx['testData'][0,0]\n",
    "test_x = test[0:3,].T\n",
    "test_x = test_x - 1\n",
    "print(\"test_x:\" + str(test_x.shape))\n",
    "test_y = test[3].T\n",
    "test_y = test_y - 1\n",
    "test_y.shape"
   ]
  },
  {
   "cell_type": "code",
   "execution_count": 9,
   "metadata": {},
   "outputs": [
    {
     "data": {
      "text/plain": [
       "(46568,)"
      ]
     },
     "execution_count": 9,
     "metadata": {},
     "output_type": "execute_result"
    }
   ],
   "source": [
    "# Load validation data\n",
    "\n",
    "valid = xx['validData'][0,0]\n",
    "valid_x = valid[0:3,].T\n",
    "valid_x = valid_x - 1\n",
    "valid_x.shape\n",
    "valid_y = (valid[3,].T) - 1\n",
    "#valid_y_one = to_categorical(valid_y)\n",
    "valid_y.shape"
   ]
  },
  {
   "cell_type": "code",
   "execution_count": 16,
   "metadata": {
    "collapsed": true
   },
   "outputs": [],
   "source": [
    "class buildModel(nn.Module):\n",
    "    def __init__(self, vocab_size, embedding_dim):\n",
    "        super(buildModel, self).__init__()\n",
    "        self.embeddings = nn.Embedding(vocab_size,embedding_dim)\n",
    "        self.linear1 = nn.Linear(3*embedding_dim,128) # 3 is the size of context and 128 are number of output\n",
    "        self.linear2 = nn.Linear(128, vocab_size)\n",
    "        self.embedding_dim = embedding_dim\n",
    "    def forward(self,inputs):\n",
    "        embeds = self.embeddings(inputs).view((-1,3*self.embedding_dim))\n",
    "        #embeds = self.embeddings(inputs)\n",
    "        x = F.tanh(self.linear1(embeds))\n",
    "        x = self.linear2(x)\n",
    "        out = F.softmax(x,dim = 1)\n",
    "        return(out)"
   ]
  },
  {
   "cell_type": "code",
   "execution_count": null,
   "metadata": {
    "collapsed": true
   },
   "outputs": [],
   "source": []
  },
  {
   "cell_type": "code",
   "execution_count": 17,
   "metadata": {
    "collapsed": true
   },
   "outputs": [],
   "source": [
    "losses = []\n",
    "loss_function = nn.CrossEntropyLoss()\n",
    "model = buildModel(vocab_size,EMBEDDING_DIM)\n",
    "opt = optim.SGD(model.parameters(),lr = 0.01,momentum = 0.5)"
   ]
  },
  {
   "cell_type": "code",
   "execution_count": 24,
   "metadata": {},
   "outputs": [],
   "source": [
    "def training(epochs):\n",
    "    combined_data = dataUtil.TensorDataset(torch.tensor(training_x,dtype = torch.long),torch.tensor(training_y,dtype = torch.long))\n",
    "    dataloader = dataUtil.DataLoader(combined_data,batch_size = BATCH_SIZE,shuffle = True)\n",
    "    for epoch in range(epochs):\n",
    "        running_loss = 0\n",
    "        total_loss = torch.Tensor([0])\n",
    "    \n",
    "        for i,input_x in enumerate(dataloader):\n",
    "            input_tensor = input_x[0]\n",
    "            target_tensor = input_x[1]\n",
    "            model.zero_grad()\n",
    "            log_probs = model(input_tensor)\n",
    "            loss = loss_function(log_probs, target_tensor)\n",
    "            loss.backward()\n",
    "            opt.step()\n",
    "            if i % 1000 == 0:\n",
    "                print(\"Loss for batch: is:\", i, loss.item())"
   ]
  },
  {
   "cell_type": "code",
   "execution_count": null,
   "metadata": {},
   "outputs": [
    {
     "name": "stdout",
     "output_type": "stream",
     "text": [
      "Loss for batch: is: 0 5.528280258178711\n",
      "Loss for batch: is: 1000 5.278372764587402\n",
      "Loss for batch: is: 2000 5.528309345245361\n",
      "Loss for batch: is: 3000 5.278292655944824\n",
      "Loss for batch: is: 4000 5.528310775756836\n",
      "Loss for batch: is: 5000 5.5277419090271\n",
      "Loss for batch: is: 6000 5.0282206535339355\n",
      "Loss for batch: is: 7000 5.527736663818359\n",
      "Loss for batch: is: 8000 5.528310775756836\n",
      "Loss for batch: is: 9000 5.028300762176514\n",
      "Loss for batch: is: 10000 5.5283098220825195\n",
      "Loss for batch: is: 11000 5.028310775756836\n",
      "Loss for batch: is: 12000 5.528309345245361\n",
      "Loss for batch: is: 13000 5.278310775756836\n",
      "Loss for batch: is: 14000 5.528065204620361\n",
      "Loss for batch: is: 15000 5.52830696105957\n",
      "Loss for batch: is: 16000 5.526644229888916\n",
      "Loss for batch: is: 17000 5.5277099609375\n",
      "Loss for batch: is: 18000 5.278254508972168\n",
      "Loss for batch: is: 19000 5.278310298919678\n",
      "Loss for batch: is: 20000 5.526927471160889\n",
      "Loss for batch: is: 21000 5.278310298919678\n",
      "Loss for batch: is: 22000 5.029082775115967\n",
      "Loss for batch: is: 23000 5.528310298919678\n",
      "Loss for batch: is: 24000 5.278269290924072\n",
      "Loss for batch: is: 25000 5.028642654418945\n",
      "Loss for batch: is: 26000 5.278128623962402\n",
      "Loss for batch: is: 27000 5.2783098220825195\n",
      "Loss for batch: is: 28000 5.278310298919678\n",
      "Loss for batch: is: 29000 5.528310775756836\n",
      "Loss for batch: is: 30000 5.278157711029053\n",
      "Loss for batch: is: 31000 5.028350830078125\n",
      "Loss for batch: is: 32000 5.278310775756836\n",
      "Loss for batch: is: 33000 5.028310775756836\n",
      "Loss for batch: is: 34000 5.278310775756836\n",
      "Loss for batch: is: 35000 5.528310298919678\n",
      "Loss for batch: is: 36000 5.526195049285889\n",
      "Loss for batch: is: 37000 5.5281758308410645\n",
      "Loss for batch: is: 38000 5.528291702270508\n",
      "Loss for batch: is: 39000 5.528310298919678\n"
     ]
    }
   ],
   "source": [
    "training(1)"
   ]
  },
  {
   "cell_type": "code",
   "execution_count": 15,
   "metadata": {
    "collapsed": true
   },
   "outputs": [],
   "source": [
    "def validation_loop(learning_rate):\n",
    "    complete_hist = {}\n",
    "    for lr in learning_rate:\n",
    "        print(lr)\n",
    "        opt = RMSprop(lr=lr, rho=0.9, epsilon=None, decay=0.0)\n",
    "        model.compile(loss='categorical_crossentropy',\n",
    "              optimizer= opt,\n",
    "              metrics=['acc'])\n",
    "        hist = model.fit(training_x,training_y_one,epochs=10, batch_size=32,\n",
    "                         validation_data = (valid_x,valid_y_one))\n",
    "        complete_hist[lr] = hist.history\n",
    "    return(complete_hist)"
   ]
  },
  {
   "cell_type": "code",
   "execution_count": 16,
   "metadata": {},
   "outputs": [
    {
     "name": "stdout",
     "output_type": "stream",
     "text": [
      "0.001\n",
      "Train on 372550 samples, validate on 46568 samples\n",
      "Epoch 1/10\n",
      "372550/372550 [==============================] - 67s 180us/step - loss: 3.2765 - acc: 0.2956 - val_loss: 3.1721 - val_acc: 0.3051\n",
      "Epoch 2/10\n",
      "372550/372550 [==============================] - 68s 183us/step - loss: 3.0924 - acc: 0.3245 - val_loss: 3.0921 - val_acc: 0.3221\n",
      "Epoch 3/10\n",
      "372550/372550 [==============================] - 65s 175us/step - loss: 3.0524 - acc: 0.3344 - val_loss: 3.0671 - val_acc: 0.3341\n",
      "Epoch 4/10\n",
      "372550/372550 [==============================] - 66s 177us/step - loss: 3.0220 - acc: 0.3398 - val_loss: 3.0443 - val_acc: 0.3371\n",
      "Epoch 5/10\n",
      "372550/372550 [==============================] - 65s 173us/step - loss: 2.9976 - acc: 0.3444 - val_loss: 3.0349 - val_acc: 0.3343\n",
      "Epoch 6/10\n",
      "372550/372550 [==============================] - 71s 190us/step - loss: 2.9839 - acc: 0.3470 - val_loss: 3.0160 - val_acc: 0.3439\n",
      "Epoch 7/10\n",
      "372550/372550 [==============================] - 65s 175us/step - loss: 2.9671 - acc: 0.3501 - val_loss: 3.0024 - val_acc: 0.3459\n",
      "Epoch 8/10\n",
      "372550/372550 [==============================] - 64s 173us/step - loss: 2.9601 - acc: 0.3516 - val_loss: 3.0047 - val_acc: 0.3491\n",
      "Epoch 9/10\n",
      "372550/372550 [==============================] - 64s 171us/step - loss: 2.9488 - acc: 0.3536 - val_loss: 2.9982 - val_acc: 0.3433\n",
      "Epoch 10/10\n",
      "372550/372550 [==============================] - 66s 178us/step - loss: 2.9386 - acc: 0.3543 - val_loss: 2.9866 - val_acc: 0.3484\n",
      "0.01\n",
      "Train on 372550 samples, validate on 46568 samples\n",
      "Epoch 1/10\n",
      "372550/372550 [==============================] - 67s 181us/step - loss: 4.1147 - acc: 0.2302 - val_loss: 4.2668 - val_acc: 0.2337\n",
      "Epoch 2/10\n",
      "372550/372550 [==============================] - 66s 176us/step - loss: 4.2222 - acc: 0.2370 - val_loss: 4.3910 - val_acc: 0.2085\n",
      "Epoch 3/10\n",
      "372550/372550 [==============================] - 66s 176us/step - loss: 4.2540 - acc: 0.2408 - val_loss: 4.6573 - val_acc: 0.2473\n",
      "Epoch 4/10\n",
      "372550/372550 [==============================] - 66s 176us/step - loss: 4.2389 - acc: 0.2432 - val_loss: 4.5390 - val_acc: 0.2358\n",
      "Epoch 5/10\n",
      "372550/372550 [==============================] - 66s 178us/step - loss: 4.2275 - acc: 0.2460 - val_loss: 4.3609 - val_acc: 0.2340\n",
      "Epoch 6/10\n",
      "372550/372550 [==============================] - 67s 180us/step - loss: 4.1916 - acc: 0.2475 - val_loss: 4.4256 - val_acc: 0.2285\n",
      "Epoch 7/10\n",
      "372550/372550 [==============================] - 64s 173us/step - loss: 4.1600 - acc: 0.2506 - val_loss: 4.3327 - val_acc: 0.2479\n",
      "Epoch 8/10\n",
      "372550/372550 [==============================] - 65s 174us/step - loss: 4.1496 - acc: 0.2513 - val_loss: 4.3703 - val_acc: 0.1862\n",
      "Epoch 9/10\n",
      "372550/372550 [==============================] - 66s 178us/step - loss: 4.1337 - acc: 0.2523 - val_loss: 4.5100 - val_acc: 0.1666\n",
      "Epoch 10/10\n",
      "372550/372550 [==============================] - 65s 175us/step - loss: 4.1174 - acc: 0.2534 - val_loss: 4.4690 - val_acc: 0.2012\n"
     ]
    }
   ],
   "source": [
    "#hist = model.fit(training_x,training_y_one,epochs=2, batch_size=32,validation_data = (valid_x,valid_y_one))\n",
    "#print(hist.history)\n",
    "return_hist = validation_loop([0.001,0.01])"
   ]
  },
  {
   "cell_type": "code",
   "execution_count": 17,
   "metadata": {},
   "outputs": [
    {
     "name": "stdout",
     "output_type": "stream",
     "text": [
      "lr: 0.001 Validation accuracy: 0.336333963237\n",
      "lr: 0.01 Validation accuracy: 0.218967960831\n"
     ]
    }
   ],
   "source": [
    "for i in return_hist.keys():\n",
    "    print(\"lr: \" + str(i) + \" Validation accuracy: \" + str (np.average(return_hist[i]['val_acc'])))"
   ]
  },
  {
   "cell_type": "code",
   "execution_count": 18,
   "metadata": {},
   "outputs": [
    {
     "name": "stdout",
     "output_type": "stream",
     "text": [
      "Accuracy: 0.320155471568459\n"
     ]
    }
   ],
   "source": [
    "from prettytable import PrettyTable\n",
    "table = PrettyTable()\n",
    "accuracy = 0\n",
    "table.field_names = [\"#\", \"Word1\", \"word2\", \"word3\", \"expected\", \"actual1\", \"actual2\",\"actual3\"]\n",
    "classes = model.predict(test_x,batch_size = 32)\n",
    "for  i in range(classes.shape[0]):\n",
    "    output = np.random.choice(a= yy[0],size = 3,p = classes[i,:], replace = False)\n",
    "    if (index_to_word[test_y[i]] in output):\n",
    "        accuracy += 1\n",
    "    #table.add_row([i,index_to_word[test_x[i,0]],index_to_word[test_x[i,1]], index_to_word[test_x[i,2]],index_to_word[test_y[i]],output[0],output[1],output[2]])    \n",
    "print(\"Accuracy: \"+ str(accuracy/classes.shape[0]))\n",
    "#print(table) "
   ]
  },
  {
   "cell_type": "code",
   "execution_count": null,
   "metadata": {
    "collapsed": true
   },
   "outputs": [],
   "source": []
  }
 ],
 "metadata": {
  "kernelspec": {
   "display_name": "Python 3",
   "language": "python",
   "name": "python3"
  },
  "language_info": {
   "codemirror_mode": {
    "name": "ipython",
    "version": 3
   },
   "file_extension": ".py",
   "mimetype": "text/x-python",
   "name": "python",
   "nbconvert_exporter": "python",
   "pygments_lexer": "ipython3",
   "version": "3.6.1"
  }
 },
 "nbformat": 4,
 "nbformat_minor": 2
}
