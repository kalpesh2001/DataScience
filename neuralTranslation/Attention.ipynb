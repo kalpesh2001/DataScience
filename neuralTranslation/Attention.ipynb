{
 "cells": [
  {
   "cell_type": "markdown",
   "metadata": {},
   "source": [
    "### Implements German to English Translation using attention based LSTM [Bahdanau, 2014](https://arxiv.org/abs/1409.0473) in pyTorch\n",
    "\n",
    "Additional notes and To do:\n",
    "1. Code has been tried out on my own machine but need to run on GPU for larger training dataset\n",
    "2. Add graphics for attention\n",
    "3. Add BLEU score implementation"
   ]
  },
  {
   "cell_type": "code",
   "execution_count": 338,
   "metadata": {
    "collapsed": true
   },
   "outputs": [],
   "source": [
    "from __future__ import unicode_literals, print_function, division\n",
    "from io import open\n",
    "import unicodedata\n",
    "import string\n",
    "import re\n",
    "import random\n",
    "\n",
    "import torch\n",
    "import torch.nn as nn\n",
    "from torch import optim\n",
    "import torch.nn.functional as F\n",
    "\n",
    "device = torch.device(\"cuda\" if torch.cuda.is_available() else \"cpu\")"
   ]
  },
  {
   "cell_type": "code",
   "execution_count": 339,
   "metadata": {
    "collapsed": true
   },
   "outputs": [],
   "source": [
    "SOS_token = 0\n",
    "EOS_token = 1\n",
    "\n",
    "\n",
    "class Lang:\n",
    "    def __init__(self, name):\n",
    "        self.name = name\n",
    "        self.word2index = {}\n",
    "        self.word2count = {}\n",
    "        self.index2word = {0: \"SOS\", 1: \"EOS\"}\n",
    "        self.n_words = 2  # Count SOS and EOS\n",
    "\n",
    "    def addSentence(self, sentence):\n",
    "        for word in sentence.split(' '):\n",
    "            self.addWord(word)\n",
    "\n",
    "    def addWord(self, word):\n",
    "        if word not in self.word2index:\n",
    "            self.word2index[word] = self.n_words\n",
    "            self.word2count[word] = 1\n",
    "            self.index2word[self.n_words] = word\n",
    "            self.n_words += 1\n",
    "        else:\n",
    "            self.word2count[word] += 1"
   ]
  },
  {
   "cell_type": "code",
   "execution_count": 340,
   "metadata": {
    "collapsed": true
   },
   "outputs": [],
   "source": [
    "def readLangs(lang1, lang2, reverse=False):\n",
    "    print(\"Reading lines...\")\n",
    "\n",
    "    # Read the file and split into lines\n",
    "    lines = open('/Users/kalpeshpatel/data/iwslt-deen-prepared/train.de-en', encoding='utf-8').\\\n",
    "        read().strip().split('\\n')\n",
    "\n",
    "    # Split every line into pairs and normalize\n",
    "    pairs = [l.split(sep = ' ||| ') for l in lines]\n",
    "\n",
    "    # Reverse pairs, make Lang instances\n",
    "    if reverse:\n",
    "        pairs = [list(reversed(p)) for p in pairs]\n",
    "        input_lang = Lang(lang2)\n",
    "        output_lang = Lang(lang1)\n",
    "    else:\n",
    "        input_lang = Lang(lang1)\n",
    "        output_lang = Lang(lang2)\n",
    "\n",
    "    return input_lang, output_lang, pairs"
   ]
  },
  {
   "cell_type": "code",
   "execution_count": 341,
   "metadata": {
    "collapsed": true
   },
   "outputs": [],
   "source": [
    "def prepareData(lang1, lang2, reverse=False):\n",
    "    input_lang, output_lang, pairs = readLangs(lang1, lang2, reverse)\n",
    "    print(\"Read %s sentence pairs\" % len(pairs))\n",
    "    pairs = filterPairs(pairs)\n",
    "    print(\"Trimmed to %s sentence pairs\" % len(pairs))\n",
    "    print(\"Counting words...\")\n",
    "    \n",
    "    for pair in pairs:\n",
    "        input_lang.addSentence(pair[0])\n",
    "        output_lang.addSentence(pair[1])\n",
    "    print(\"Counted words:\")\n",
    "    print(input_lang.name, input_lang.n_words)\n",
    "    print(output_lang.name, output_lang.n_words)\n",
    "    return input_lang, output_lang, pairs\n"
   ]
  },
  {
   "cell_type": "code",
   "execution_count": 342,
   "metadata": {
    "collapsed": true
   },
   "outputs": [],
   "source": [
    "MAX_LENGTH = 10\n",
    "\n",
    "eng_prefixes = (\n",
    "    \"i am\", \"i 'm\",\n",
    "    \"he is\", \"he 's \",\n",
    "    \"she is\", \"she 's\",\n",
    "    \"you are\", \"you re \",\n",
    "    \"we are\", \"we 're \",\n",
    "    \"they are\", \"they 're \"\n",
    ")\n",
    "\n",
    "\n",
    "def filterPair(p):\n",
    "    return len(p[0].split(' ')) < MAX_LENGTH and \\\n",
    "        len(p[1].split(' ')) < MAX_LENGTH and \\\n",
    "        p[1].startswith(eng_prefixes)\n",
    "#def filterPair(p):\n",
    "#    return p[1].startswith(eng_prefixes)\n",
    "\n",
    "def filterPairs(pairs):\n",
    "    return [pair for pair in pairs if filterPair(pair)]"
   ]
  },
  {
   "cell_type": "code",
   "execution_count": 343,
   "metadata": {},
   "outputs": [
    {
     "name": "stdout",
     "output_type": "stream",
     "text": [
      "Reading lines...\n",
      "Read 179643 sentence pairs\n",
      "Trimmed to 1025 sentence pairs\n",
      "Counting words...\n",
      "Counted words:\n",
      "de 1751\n",
      "eng 1527\n",
      "['wir sind hauptfiguren in unseren eigenen leben .', 'we are the subjects of our own lives .']\n"
     ]
    }
   ],
   "source": [
    "input_lang, output_lang, pairs = prepareData('de','eng')\n",
    "vocab_input = input_lang.n_words\n",
    "vocab_output = output_lang.n_words\n",
    "print(random.choice(pairs))"
   ]
  },
  {
   "cell_type": "code",
   "execution_count": 381,
   "metadata": {
    "collapsed": true
   },
   "outputs": [],
   "source": [
    "class EncoderRNN(nn.Module):\n",
    "    #input_size: Max index value for the input vocubulary\n",
    "    #embedding_size: Dimension of embedding vector\n",
    "    #hidden_size: hidden size for lstm. \n",
    "    def __init__(self, input_size, embedding_size, hidden_size):\n",
    "        super(EncoderRNN, self).__init__()\n",
    "        self.input_size = input_size\n",
    "        self.hidden_size = hidden_size\n",
    "        self.embedding_size = embedding_size\n",
    "        self.embedding = nn.Embedding(input_size, embedding_size)\n",
    "        self.lstm = nn.LSTM(input_size = self.embedding_size, hidden_size = self.hidden_size, bidirectional = True)\n",
    "\n",
    "    def forward(self, input):\n",
    "        embedded = self.embedding(input)\n",
    "        output = embedded\n",
    "        output, (hidden,cell) = self.lstm(output)\n",
    "        return output, hidden\n",
    "    def initHidden(self):\n",
    "        return torch.zeros(2, 1, self.hidden_size, device=device)"
   ]
  },
  {
   "cell_type": "code",
   "execution_count": 345,
   "metadata": {
    "collapsed": true
   },
   "outputs": [],
   "source": [
    "test = EncoderRNN(input_size = 10,hidden_size = 20, embedding_size = 13)"
   ]
  },
  {
   "cell_type": "code",
   "execution_count": 346,
   "metadata": {
    "collapsed": true
   },
   "outputs": [],
   "source": [
    "input = torch.randint(size = (11, 16),high = 10,dtype = torch.long)"
   ]
  },
  {
   "cell_type": "code",
   "execution_count": 347,
   "metadata": {
    "collapsed": true
   },
   "outputs": [],
   "source": [
    "out,hidden = test.forward(input)"
   ]
  },
  {
   "cell_type": "code",
   "execution_count": 348,
   "metadata": {},
   "outputs": [
    {
     "data": {
      "text/plain": [
       "torch.Size([11, 16, 40])"
      ]
     },
     "execution_count": 348,
     "metadata": {},
     "output_type": "execute_result"
    }
   ],
   "source": [
    "out.shape"
   ]
  },
  {
   "cell_type": "code",
   "execution_count": 370,
   "metadata": {
    "collapsed": true
   },
   "outputs": [],
   "source": [
    "#Params for init():\n",
    "#output_size: Max index value for the output vocubulary. \n",
    "#embedding_size: Dimension of embedding vector\n",
    "#hidden_size: hidden size for lstm. Let's assume we are using same hidden size for encoder and decoder\n",
    "\n",
    "#Params for feedforward method:\n",
    "#input_idx: Index of a word of the output or target sequence\n",
    "#prev_decoder_output: tuple of previous (hidden state, cell memory) for decoder LSTM. hidden_state size: (1,batch_size,no of hidden units)\n",
    "#encoder_output: output from the encoder of size: (Tx, batch_size,2*number of hidden untis). \n",
    "# Tx is length of input sentance\n",
    "\n",
    "\n",
    "class AttnDecoderRNN(nn.Module):\n",
    "    def __init__(self, output_size, hidden_size, embedding_size,dropout_p=0.1):\n",
    "        super(AttnDecoderRNN, self).__init__()\n",
    "        #No of hidden units in attension network\n",
    "        self.hidden_size_att = 10\n",
    "        self.hidden_size = hidden_size\n",
    "        self.output_size = output_size\n",
    "        self.embedding_size = embedding_size\n",
    "        self.dropout_p = dropout_p\n",
    "        self.embedding = nn.Embedding(output_size, embedding_size)\n",
    "        self.dropout = nn.Dropout(self.dropout_p)\n",
    "        self.dense1 = nn.Linear(in_features = 2*hidden_size,out_features = self.hidden_size_att)\n",
    "        self.dense2 = nn.Linear(in_features = hidden_size,out_features = self.hidden_size_att)\n",
    "        self.dense3 = nn.Linear(in_features = self.hidden_size_att,out_features = 1)\n",
    "        self.lstm = nn.LSTM(input_size = (self.embedding_size + 2*self.hidden_size ), hidden_size = self.hidden_size)\n",
    "        #add output of dense1 and dense2. Pass it through tanh\n",
    "        #apply dense3 to output of tanh. \n",
    "        #apply softmax to output of dense3.\n",
    "        self.final_dense = nn.Linear(in_features = self.hidden_size, out_features = self.output_size)\n",
    "        \n",
    "    def forward(self,input_idx, prev_decoder_output, encoder_output):\n",
    "        self.input_idx = input_idx\n",
    "        self.prev_decoder_hidden = prev_decoder_output[0]\n",
    "    \n",
    "        embedding_output = self.embedding(self.input_idx)\n",
    "        embeddeding_output = self.dropout(embedding_output)\n",
    "        output1 = self.dense1(encoder_output)\n",
    "        output2 = self.dense2(self.prev_decoder_hidden)\n",
    "        output = torch.add(output1,1,output2)\n",
    "        output = F.tanh(output)\n",
    "        output = self.dense3(output)\n",
    "        # I have selected dim = 0. Not sure if this is correct. \n",
    "        output = F.softmax(output,dim = 0)\n",
    "        output = torch.mul(output,encoder_output)\n",
    "        output = torch.sum(output,dim = 0,keepdim = True)\n",
    "        output = torch.cat((output,embedding_output), dim = 2)\n",
    "        #print(\"Final output dim:\", output.shape)\n",
    "        \n",
    "        output,(hn,cn) = self.lstm(output,prev_decoder_output)\n",
    "        # apply softmax along batch dimension. NOt sure if this is correct. \n",
    "        # out_pred has dimension of (# of layers, batch_size,size of hidden layer). Therefore, send 0th index to work with cross entropy.\n",
    "        out_pred = F.log_softmax(self.final_dense(output),dim = 2)\n",
    "        return out_pred[0],output,(hn,cn)\n",
    "        "
   ]
  },
  {
   "cell_type": "code",
   "execution_count": 371,
   "metadata": {
    "collapsed": true
   },
   "outputs": [],
   "source": [
    "test_decoder = AttnDecoderRNN(output_size = 21,hidden_size = 20,embedding_size = 15)"
   ]
  },
  {
   "cell_type": "code",
   "execution_count": 372,
   "metadata": {
    "collapsed": true
   },
   "outputs": [],
   "source": [
    "input_idx = torch.randint(size = (1,16),high = 21,dtype = torch.long)"
   ]
  },
  {
   "cell_type": "code",
   "execution_count": 373,
   "metadata": {
    "collapsed": true
   },
   "outputs": [],
   "source": [
    "prev_decoder_hidden = torch.randn(size = (1,16,20))\n",
    "prev_decoder_cell = torch.randn(size = (1,16,20))\n",
    "prev_decoder_output = (prev_decoder_hidden,prev_decoder_cell)"
   ]
  },
  {
   "cell_type": "code",
   "execution_count": 374,
   "metadata": {
    "collapsed": true
   },
   "outputs": [],
   "source": [
    "pred,out1,out2 = test_decoder.forward(input_idx, prev_decoder_output,out)"
   ]
  },
  {
   "cell_type": "code",
   "execution_count": 375,
   "metadata": {},
   "outputs": [
    {
     "data": {
      "text/plain": [
       "torch.Size([16, 21])"
      ]
     },
     "execution_count": 375,
     "metadata": {},
     "output_type": "execute_result"
    }
   ],
   "source": [
    "pred.shape"
   ]
  },
  {
   "cell_type": "code",
   "execution_count": 376,
   "metadata": {
    "collapsed": true
   },
   "outputs": [],
   "source": [
    "# note: we are using batch size of 1\n",
    "def indexesFromSentence(lang, sentence):\n",
    "    return [lang.word2index[word] for word in sentence.split(' ')]\n",
    "\n",
    "def tensorFromSentence(lang, sentence):\n",
    "    indexes = indexesFromSentence(lang, sentence)\n",
    "    indexes.append(EOS_token)\n",
    "    return torch.tensor(indexes, dtype=torch.long, device=device).view(-1, 1)\n",
    "\n",
    "def tensorsFromPair(pair):\n",
    "    input_tensor = tensorFromSentence(input_lang, pair[0])\n",
    "    target_tensor = tensorFromSentence(output_lang, pair[1])\n",
    "    return (input_tensor, target_tensor)"
   ]
  },
  {
   "cell_type": "code",
   "execution_count": 382,
   "metadata": {
    "collapsed": true
   },
   "outputs": [],
   "source": [
    "def train(input_tensor, target_tensor, encoder, decoder, encoder_optimizer, decoder_optimizer, criterion, max_length=MAX_LENGTH):\n",
    "    encoder_hidden = encoder.initHidden()\n",
    "    encoder_optimizer.zero_grad()\n",
    "    decoder_optimizer.zero_grad()\n",
    "    \n",
    "    input_length = input_tensor.size(0)\n",
    "    target_length = target_tensor.size(0)\n",
    "    loss = 0\n",
    "    \n",
    "    output_encoder,hidden_encoder = encoder.forward(input_tensor)\n",
    "    #now let's initialize hidden state for decoder from output of last layer of encoder\n",
    "    decoder_hidden = hidden_encoder[1].view(1,hidden_encoder.size(1),hidden_encoder.size(2))\n",
    "    decoder_c = torch.zeros_like(decoder_hidden)\n",
    "    prev_decoder = (decoder_hidden,decoder_c)\n",
    "    #print(init_hidden_decoder.shape)\n",
    "    decoder_input = torch.tensor([[SOS_token]], device=device,dtype = torch.long)\n",
    "    for di in range(target_length):\n",
    "        out_pred,output, prev_decoder_1 = decoder.forward(\n",
    "                decoder_input, prev_decoder, output_encoder)\n",
    "        prev_decoder = prev_decoder_1\n",
    "        loss += criterion(out_pred,target_tensor[di])\n",
    "        decoder_input = torch.tensor([[target_tensor[di]]],dtype = torch.long) # Teacher forcing\n",
    "        #print(\"Loss:\", loss)\n",
    "\n",
    "    loss.backward()\n",
    "    encoder_optimizer.step()\n",
    "    decoder_optimizer.step()\n",
    "    return(loss.item() / target_length)"
   ]
  },
  {
   "cell_type": "code",
   "execution_count": 383,
   "metadata": {
    "collapsed": true
   },
   "outputs": [],
   "source": [
    "hidden_size = 256\n",
    "embedding_size = 256\n",
    "def trainIters(n_iters, learning_rate=0.01):\n",
    "    print_loss_total = 0\n",
    "    print_every = 100\n",
    "    encoder = EncoderRNN(input_lang.n_words,hidden_size,embedding_size)\n",
    "    decoder = AttnDecoderRNN(output_lang.n_words,hidden_size,embedding_size)\n",
    "    \n",
    "    encoder_optimizer = optim.SGD(encoder.parameters(), lr=learning_rate)\n",
    "    decoder_optimizer = optim.SGD(decoder.parameters(), lr=learning_rate)\n",
    "    training_pairs = [tensorsFromPair(random.choice(pairs))\n",
    "                      for i in range(n_iters)]\n",
    "    criterion = nn.NLLLoss()\n",
    "\n",
    "    for iter in range(1, n_iters + 1):\n",
    "        training_pair = training_pairs[iter - 1]\n",
    "        #tensors for one sentance\n",
    "        input_tensor = training_pair[0]\n",
    "        target_tensor = training_pair[1]\n",
    "        loss = train(input_tensor, target_tensor, encoder,\n",
    "                     decoder, encoder_optimizer, decoder_optimizer, criterion)\n",
    "        print_loss_total += loss\n",
    "        if iter % print_every == 0:\n",
    "            print_loss_avg = print_loss_total / print_every\n",
    "            print_loss_total = 0\n",
    "            print('(%d %d%%) %.4f' % (iter, iter / n_iters * 100, print_loss_avg))\n"
   ]
  },
  {
   "cell_type": "code",
   "execution_count": null,
   "metadata": {
    "collapsed": true
   },
   "outputs": [],
   "source": [
    "trainIters(5000)"
   ]
  }
 ],
 "metadata": {
  "kernelspec": {
   "display_name": "Python 3",
   "language": "python",
   "name": "python3"
  },
  "language_info": {
   "codemirror_mode": {
    "name": "ipython",
    "version": 3
   },
   "file_extension": ".py",
   "mimetype": "text/x-python",
   "name": "python",
   "nbconvert_exporter": "python",
   "pygments_lexer": "ipython3",
   "version": "3.6.1"
  }
 },
 "nbformat": 4,
 "nbformat_minor": 2
}
