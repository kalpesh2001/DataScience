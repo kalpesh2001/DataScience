{
 "cells": [
  {
   "cell_type": "code",
   "execution_count": 2,
   "metadata": {
    "scrolled": true
   },
   "outputs": [
    {
     "name": "stderr",
     "output_type": "stream",
     "text": [
      "Using TensorFlow backend.\n"
     ]
    },
    {
     "name": "stdout",
     "output_type": "stream",
     "text": [
      "_________________________________________________________________\n",
      "Layer (type)                 Output Shape              Param #   \n",
      "=================================================================\n",
      "embedding_1 (Embedding)      (None, 3, 50)             12500     \n",
      "_________________________________________________________________\n",
      "flatten_1 (Flatten)          (None, 150)               0         \n",
      "_________________________________________________________________\n",
      "dense_1 (Dense)              (None, 200)               30200     \n",
      "_________________________________________________________________\n",
      "dense_2 (Dense)              (None, 250)               50250     \n",
      "=================================================================\n",
      "Total params: 92,950\n",
      "Trainable params: 92,950\n",
      "Non-trainable params: 0\n",
      "_________________________________________________________________\n"
     ]
    }
   ],
   "source": [
    "from keras.models import Sequential\n",
    "from keras.layers import Dense, Activation, Flatten, Embedding\n",
    "model = Sequential()\n",
    "model.add(Embedding(250, 50, input_length=3))\n",
    "model.add(Flatten())\n",
    "# the model will take as input an integer matrix of size (batch, input_length = 4).\n",
    "# the largest integer (i.e. word index) in the input should be no larger than 250 (vocabulary size).\n",
    "# now model.output_shape == (None, 3, 50), where None is the batch dimension.\n",
    "model.add(Dense(200,activation = 'tanh'))\n",
    "model.add(Dense(250,activation = 'softmax'))\n",
    "\n",
    "#input_array = np.random.randint(1000, size=(32, 10))\n",
    "\n",
    "#model.compile('rmsprop', 'mse')\n",
    "#output_array = model.predict(input_array)\n",
    "#assert output_array.shape == (32, 10, 64)\n",
    "model.summary()"
   ]
  },
  {
   "cell_type": "code",
   "execution_count": null,
   "metadata": {
    "collapsed": true
   },
   "outputs": [],
   "source": []
  }
 ],
 "metadata": {
  "kernelspec": {
   "display_name": "Python 3",
   "language": "python",
   "name": "python3"
  },
  "language_info": {
   "codemirror_mode": {
    "name": "ipython",
    "version": 3
   },
   "file_extension": ".py",
   "mimetype": "text/x-python",
   "name": "python",
   "nbconvert_exporter": "python",
   "pygments_lexer": "ipython3",
   "version": "3.6.1"
  }
 },
 "nbformat": 4,
 "nbformat_minor": 2
}
